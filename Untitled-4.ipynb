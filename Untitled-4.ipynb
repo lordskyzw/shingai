{
 "cells": [
  {
   "cell_type": "code",
   "execution_count": null,
   "metadata": {},
   "outputs": [],
   "source": []
  },
  {
   "cell_type": "code",
   "execution_count": null,
   "metadata": {},
   "outputs": [],
   "source": [
    "toolkit = FileManagementToolkit(root_dir=r\"C:\\Users\\tarim\\Documents\\Laboraties\\Winter\")\n",
    "\n",
    "toolkit.get_tools()"
   ]
  },
  {
   "cell_type": "code",
   "execution_count": null,
   "metadata": {},
   "outputs": [],
   "source": [
    "tools = FileManagementToolkit(root_dir=\"C:\\Users\\tarim\\Documents\\Laboraties\\Winter\", selected_tools=[\"read_file\", \"write_file\", \"list_directory\"]).get_tools()\n",
    "tools"
   ]
  }
 ],
 "metadata": {
  "language_info": {
   "name": "python"
  },
  "orig_nbformat": 4
 },
 "nbformat": 4,
 "nbformat_minor": 2
}
