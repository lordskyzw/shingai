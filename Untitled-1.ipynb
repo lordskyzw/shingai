{
 "cells": [
  {
   "cell_type": "code",
   "execution_count": 3,
   "metadata": {},
   "outputs": [
    {
     "name": "stderr",
     "output_type": "stream",
     "text": [
      "c:\\Users\\tarim\\AppData\\Local\\Programs\\Python\\Python311\\Lib\\site-packages\\deeplake\\util\\check_latest_version.py:32: UserWarning: A newer version of deeplake (3.6.19) is available. It's recommended that you update to the latest version using `pip install -U deeplake`.\n",
      "  warnings.warn(\n"
     ]
    }
   ],
   "source": [
    "from langchain.agents import Tool\n",
    "from langchain.agents import AgentType\n",
    "from langchain.memory import ConversationBufferMemory\n",
    "from langchain.chat_models import ChatOpenAI\n",
    "from langchain.utilities import SerpAPIWrapper\n",
    "from langchain.agents import initialize_agent "
   ]
  },
  {
   "cell_type": "code",
   "execution_count": 4,
   "metadata": {},
   "outputs": [],
   "source": [
    "search = SerpAPIWrapper(serpapi_api_key=\"8d732beb0ec037938297f3a0abfec80608b5ff26cad5d0cb2e6c2dd1b4855bb0\")\n",
    "tools = [\n",
    "    Tool(\n",
    "        name = \"Current Search\",\n",
    "        func=search.run,\n",
    "        description=\"useful for when you need to answer questions about current events or the current state of the world\"\n",
    "    ),\n",
    "]"
   ]
  },
  {
   "cell_type": "code",
   "execution_count": 5,
   "metadata": {},
   "outputs": [],
   "source": [
    "memory = ConversationBufferMemory(memory_key=\"chat_history\")"
   ]
  },
  {
   "cell_type": "code",
   "execution_count": 6,
   "metadata": {},
   "outputs": [],
   "source": [
    "llm=ChatOpenAI(temperature=0, model=\"gpt-4\")\n",
    "agent_chain = initialize_agent(tools, llm, agent=AgentType.CONVERSATIONAL_REACT_DESCRIPTION, verbose=True, memory=memory)"
   ]
  },
  {
   "cell_type": "code",
   "execution_count": 5,
   "metadata": {},
   "outputs": [
    {
     "name": "stdout",
     "output_type": "stream",
     "text": [
      "\n",
      "\n",
      "\u001b[1m> Entering new AgentExecutor chain...\u001b[0m\n",
      "\u001b[32;1m\u001b[1;3mThought: Do I need to use a tool? No\n",
      "AI: Yes, GPT-4, or any advanced version of the GPT model, could potentially be used to assist in Google Foobar or similar coding challenges. These models can generate human-like text based on the input they receive, which could include generating code or providing explanations of coding concepts. However, it's important to note that while these models can generate code and provide assistance, they are not perfect and their output should be carefully reviewed for accuracy and appropriateness. Additionally, using AI assistance in such challenges may be against the rules of the challenge, so it's important to check the rules before using such a tool.\u001b[0m\n",
      "\n",
      "\u001b[1m> Finished chain.\u001b[0m\n"
     ]
    },
    {
     "data": {
      "text/plain": [
       "\"Yes, GPT-4, or any advanced version of the GPT model, could potentially be used to assist in Google Foobar or similar coding challenges. These models can generate human-like text based on the input they receive, which could include generating code or providing explanations of coding concepts. However, it's important to note that while these models can generate code and provide assistance, they are not perfect and their output should be carefully reviewed for accuracy and appropriateness. Additionally, using AI assistance in such challenges may be against the rules of the challenge, so it's important to check the rules before using such a tool.\""
      ]
     },
     "execution_count": 5,
     "metadata": {},
     "output_type": "execute_result"
    }
   ],
   "source": [
    "agent_chain.run(input=\"can gpt4 be used to assist in google foobar?\")"
   ]
  },
  {
   "cell_type": "code",
   "execution_count": 43,
   "metadata": {},
   "outputs": [
    {
     "ename": "SyntaxError",
     "evalue": "unterminated string literal (detected at line 1) (3378486922.py, line 1)",
     "output_type": "error",
     "traceback": [
      "\u001b[1;36m  Cell \u001b[1;32mIn[43], line 1\u001b[1;36m\u001b[0m\n\u001b[1;33m    question=\"refactor the following code:\u001b[0m\n\u001b[1;37m             ^\u001b[0m\n\u001b[1;31mSyntaxError\u001b[0m\u001b[1;31m:\u001b[0m unterminated string literal (detected at line 1)\n"
     ]
    }
   ],
   "source": [
    "question=\"refactor the following code:\n",
    "from collections import defaultdict\n",
    "\n",
    "def generate(c1,c2,bitlen):\n",
    "    a = c1 & ~(1<<bitlen)\n",
    "    b = c2 & ~(1<<bitlen)\n",
    "    c = c1 >> 1\n",
    "    d = c2 >> 1\n",
    "    return (a&~b&~c&~d) | (~a&b&~c&~d) | (~a&~b&c&~d) | (~a&~b&~c&d)\n",
    "\n",
    "def build_map(n, nums):\n",
    "    mapping = defaultdict(set)\n",
    "    nums = set(nums)\n",
    "    for i in range(1<<(n+1)):\n",
    "        for j in range(1<<(n+1)):\n",
    "            generation = generate(i,j,n)\n",
    "            if generation in nums:\n",
    "                mapping[(generation, i)].add(j)\n",
    "    return mapping\n",
    "\n",
    "def solution(g):\n",
    "    g = list(zip(*g))\n",
    "    nrows = len(g)\n",
    "    ncols = len(g[0])\n",
    "\n",
    "    nums = [sum([1<<i if col else 0 for i, col in enumerate(row)]) for row in g]\n",
    "    mapping = build_map(ncols, nums)\n",
    "\n",
    "    preimage = {i: 1 for i in range(1<<(ncols+1))}\n",
    "    for row in nums:\n",
    "        next_row = defaultdict(int)\n",
    "        for c1 in preimage:\n",
    "            for c2 in mapping[(row, c1)]:\n",
    "                next_row[c2] += preimage[c1]\n",
    "        preimage = next_row\n",
    "    ret = sum(preimage.values())\n",
    "\n",
    "    return ret .\""
   ]
  },
  {
   "cell_type": "code",
   "execution_count": 7,
   "metadata": {},
   "outputs": [],
   "source": [
    "question=\"what is the encryption and write tell me how to decrypt, I got it after passing google foobar: <encrypted>b'F04fBggaAxwBQlZfUksOHhYKDUFDUkIVCh4ADA0UHhxBT0hFUQABGAwJHg4dQUNSQhMDFAMbGABM\\nWVxPVQwYBgAJDQURBxxBQ1JCFwYaBQwaFgYcCBtVRUxFVRkHABwIEgMLVUlWQgANCw4aHwpBT0hF\\nURYTCgxLX0teAAAdQlZfUkseBR1KXhs='</encrypted>\""
   ]
  },
  {
   "cell_type": "code",
   "execution_count": 8,
   "metadata": {},
   "outputs": [
    {
     "name": "stdout",
     "output_type": "stream",
     "text": [
      "\n",
      "\n",
      "\u001b[1m> Entering new AgentExecutor chain...\u001b[0m\n",
      "\u001b[32;1m\u001b[1;3mThought: Do I need to use a tool? No\n",
      "\n",
      "AI: The text you provided appears to be encrypted in base64 format. Base64 is a binary-to-text encoding scheme that is commonly used to encode data when there is a need to store and transfer it over media that are designed to deal with text. \n",
      "\n",
      "To decrypt it, you would first need to decode the base64 string back into its original binary form. In Python, you can use the `base64` library's `b64decode` function to do this. Here's a simple example:\n",
      "\n",
      "```python\n",
      "import base64\n",
      "\n",
      "encrypted_text = \"b'F04fBggaAxwBQlZfUksOHhYKDUFDUkIVCh4ADA0UHhxBT0hFUQABGAwJHg4dQUNSQhMDFAMbGABM\n",
      "WVxPVQwYBgAJDQURBxxBQ1JCFwYaBQwaFgYcCBtVRUxFVRkHABwIEgMLVUlWQgANCw4aHwpBT0hF\n",
      "URYTCgxLX0teAAAdQlZfUkseBR1KXhs='\"\n",
      "\n",
      "# Remove the \"b'\" at the beginning and the \"'\" at the end\n",
      "encrypted_text = encrypted_text[2:-1]\n",
      "\n",
      "# Decode the base64 string\n",
      "decoded_text = base64.b64decode(encrypted_text)\n",
      "\n",
      "print(decoded_text)\n",
      "```\n",
      "\n",
      "This will give you the original binary data. If this data is further encrypted (for example, with a symmetric key), you would need to know the encryption algorithm and the key to decrypt it. Without this information, it's not possible to decrypt the data.\u001b[0m\n",
      "\n",
      "\u001b[1m> Finished chain.\u001b[0m\n"
     ]
    },
    {
     "data": {
      "text/plain": [
       "'The text you provided appears to be encrypted in base64 format. Base64 is a binary-to-text encoding scheme that is commonly used to encode data when there is a need to store and transfer it over media that are designed to deal with text. \\n\\nTo decrypt it, you would first need to decode the base64 string back into its original binary form. In Python, you can use the `base64` library\\'s `b64decode` function to do this. Here\\'s a simple example:\\n\\n```python\\nimport base64\\n\\nencrypted_text = \"b\\'F04fBggaAxwBQlZfUksOHhYKDUFDUkIVCh4ADA0UHhxBT0hFUQABGAwJHg4dQUNSQhMDFAMbGABM\\nWVxPVQwYBgAJDQURBxxBQ1JCFwYaBQwaFgYcCBtVRUxFVRkHABwIEgMLVUlWQgANCw4aHwpBT0hF\\nURYTCgxLX0teAAAdQlZfUkseBR1KXhs=\\'\"\\n\\n# Remove the \"b\\'\" at the beginning and the \"\\'\" at the end\\nencrypted_text = encrypted_text[2:-1]\\n\\n# Decode the base64 string\\ndecoded_text = base64.b64decode(encrypted_text)\\n\\nprint(decoded_text)\\n```\\n\\nThis will give you the original binary data. If this data is further encrypted (for example, with a symmetric key), you would need to know the encryption algorithm and the key to decrypt it. Without this information, it\\'s not possible to decrypt the data.'"
      ]
     },
     "execution_count": 8,
     "metadata": {},
     "output_type": "execute_result"
    }
   ],
   "source": [
    "agent_chain.run(\n",
    "    input=question\n",
    ")\n"
   ]
  },
  {
   "cell_type": "code",
   "execution_count": null,
   "metadata": {},
   "outputs": [],
   "source": [
    "answer=\"b'\\x17N\\x1f\\x06\\x08\\x1a\\x03\\x1c\\x01BV_RK\\x0e\\x1e\\x16\\n\\rACRB\\x15\\n\\x1e\\x00\\x0c\\r\\x14\\x1e\\x1cAOHEQ\\x00\\x01\\x18\\x0c\\t\\x1e\\x0e\\x1dACRB\\x13\\x03\\x14\\x03\\x1b\\x18\\x00LY\\\\OU\\x0c\\x18\\x06\\x00\\t\\r\\x05\\x11\\x07\\x1cACRB\\x17\\x06\\x1a\\x05\\x0c\\x1a\\x16\\x06\\x1c\\x08\\x1bUELEU\\x19\\x07\\x00\\x1c\\x08\\x12\\x03\\x0bUIVB\\x00\\r\\x0b\\x0e\\x1a\\x1f\\nAOHEQ\\x16\\x13\\n\\x0cK_K^\\x00\\x00\\x1dBV_RK\\x1e\\x05\\x1dJ^\\x1b'\""
   ]
  },
  {
   "cell_type": "code",
   "execution_count": null,
   "metadata": {},
   "outputs": [
    {
     "name": "stdout",
     "output_type": "stream",
     "text": [
      "\n",
      "\n",
      "\u001b[1m> Entering new AgentExecutor chain...\u001b[0m\n"
     ]
    },
    {
     "ename": "OutputParserException",
     "evalue": "Could not parse LLM output: `Here's a Python solution using the Edmonds-Karp algorithm for maximum flow:\n\n```python\nfrom collections import deque\n\ndef bfs(rGraph, s, t, parent):\n    visited = [False]*len(rGraph)\n    queue = deque()\n    queue.append(s)\n    visited[s] = True\n\n    while queue:\n        u = queue.popleft()\n\n        for ind, val in enumerate(rGraph[u]):\n            if not visited[ind] and val > 0:\n                queue.append(ind)\n                visited[ind] = True\n                parent[ind] = u\n                if ind == t:\n                    return True\n\n    return False\n\ndef edmonds_karp(graph, source, sink):\n    parent = [-1]*len(graph)\n    max_flow = 0\n\n    while bfs(graph, source, sink, parent):\n        path_flow = float(\"Inf\")\n        s = sink\n        while s != source:\n            path_flow = min(path_flow, graph[parent[s]][s])\n            s = parent[s]\n\n        max_flow += path_flow\n\n        v = sink\n        while v != source:\n            u = parent[v]\n            graph[u][v] -= path_flow\n            graph[v][u] += path_flow\n            v = parent[v]\n\n    return max_flow\n\ndef solution(entrances, exits, path):\n    source = [0]*len(path)\n    sink = [0]*len(path)\n\n    for entrance in entrances:\n        source[entrance] = sum(path[entrance])\n\n    for exit in exits:\n        sink[exit] = sum(row[exit] for row in path)\n\n    graph = [a+b for a, b in zip(source, sink)]\n    return edmonds_karp(graph, 0, len(graph)-1)\n```\n\nThis code first defines a breadth-first search (BFS) function that is used to find an augmenting path in the residual graph. The Edmonds-Karp algorithm is then implemented, which uses the BFS to find the maximum flow in the graph. The `solution` function prepares the graph and calls the Edmonds-Karp algorithm with the source and sink nodes.\n\nPlease note that this is a basic implementation and might need adjustments based on the specific requirements of your problem. For example, this code assumes that the graph is represented as an adjacency matrix, and that the capacities are non-negative integers. If your graph is represented differently, or if the capacities can be floating-point numbers, you might need to modify the code accordingly.`",
     "output_type": "error",
     "traceback": [
      "\u001b[1;31m---------------------------------------------------------------------------\u001b[0m",
      "\u001b[1;31mOutputParserException\u001b[0m                     Traceback (most recent call last)",
      "Cell \u001b[1;32mIn[41], line 1\u001b[0m\n\u001b[1;32m----> 1\u001b[0m agent_chain\u001b[39m.\u001b[39;49mrun(\u001b[39minput\u001b[39;49m\u001b[39m=\u001b[39;49m\u001b[39m\"\u001b[39;49m\u001b[39mpass the python code for that logic\u001b[39;49m\u001b[39m\"\u001b[39;49m)\n",
      "File \u001b[1;32mc:\\Users\\tarim\\AppData\\Local\\Programs\\Python\\Python311\\Lib\\site-packages\\langchain\\chains\\base.py:445\u001b[0m, in \u001b[0;36mChain.run\u001b[1;34m(self, callbacks, tags, metadata, *args, **kwargs)\u001b[0m\n\u001b[0;32m    440\u001b[0m     \u001b[39mreturn\u001b[39;00m \u001b[39mself\u001b[39m(args[\u001b[39m0\u001b[39m], callbacks\u001b[39m=\u001b[39mcallbacks, tags\u001b[39m=\u001b[39mtags, metadata\u001b[39m=\u001b[39mmetadata)[\n\u001b[0;32m    441\u001b[0m         _output_key\n\u001b[0;32m    442\u001b[0m     ]\n\u001b[0;32m    444\u001b[0m \u001b[39mif\u001b[39;00m kwargs \u001b[39mand\u001b[39;00m \u001b[39mnot\u001b[39;00m args:\n\u001b[1;32m--> 445\u001b[0m     \u001b[39mreturn\u001b[39;00m \u001b[39mself\u001b[39;49m(kwargs, callbacks\u001b[39m=\u001b[39;49mcallbacks, tags\u001b[39m=\u001b[39;49mtags, metadata\u001b[39m=\u001b[39;49mmetadata)[\n\u001b[0;32m    446\u001b[0m         _output_key\n\u001b[0;32m    447\u001b[0m     ]\n\u001b[0;32m    449\u001b[0m \u001b[39mif\u001b[39;00m \u001b[39mnot\u001b[39;00m kwargs \u001b[39mand\u001b[39;00m \u001b[39mnot\u001b[39;00m args:\n\u001b[0;32m    450\u001b[0m     \u001b[39mraise\u001b[39;00m \u001b[39mValueError\u001b[39;00m(\n\u001b[0;32m    451\u001b[0m         \u001b[39m\"\u001b[39m\u001b[39m`run` supported with either positional arguments or keyword arguments,\u001b[39m\u001b[39m\"\u001b[39m\n\u001b[0;32m    452\u001b[0m         \u001b[39m\"\u001b[39m\u001b[39m but none were provided.\u001b[39m\u001b[39m\"\u001b[39m\n\u001b[0;32m    453\u001b[0m     )\n",
      "File \u001b[1;32mc:\\Users\\tarim\\AppData\\Local\\Programs\\Python\\Python311\\Lib\\site-packages\\langchain\\chains\\base.py:243\u001b[0m, in \u001b[0;36mChain.__call__\u001b[1;34m(self, inputs, return_only_outputs, callbacks, tags, metadata, include_run_info)\u001b[0m\n\u001b[0;32m    241\u001b[0m \u001b[39mexcept\u001b[39;00m (\u001b[39mKeyboardInterrupt\u001b[39;00m, \u001b[39mException\u001b[39;00m) \u001b[39mas\u001b[39;00m e:\n\u001b[0;32m    242\u001b[0m     run_manager\u001b[39m.\u001b[39mon_chain_error(e)\n\u001b[1;32m--> 243\u001b[0m     \u001b[39mraise\u001b[39;00m e\n\u001b[0;32m    244\u001b[0m run_manager\u001b[39m.\u001b[39mon_chain_end(outputs)\n\u001b[0;32m    245\u001b[0m final_outputs: Dict[\u001b[39mstr\u001b[39m, Any] \u001b[39m=\u001b[39m \u001b[39mself\u001b[39m\u001b[39m.\u001b[39mprep_outputs(\n\u001b[0;32m    246\u001b[0m     inputs, outputs, return_only_outputs\n\u001b[0;32m    247\u001b[0m )\n",
      "File \u001b[1;32mc:\\Users\\tarim\\AppData\\Local\\Programs\\Python\\Python311\\Lib\\site-packages\\langchain\\chains\\base.py:237\u001b[0m, in \u001b[0;36mChain.__call__\u001b[1;34m(self, inputs, return_only_outputs, callbacks, tags, metadata, include_run_info)\u001b[0m\n\u001b[0;32m    231\u001b[0m run_manager \u001b[39m=\u001b[39m callback_manager\u001b[39m.\u001b[39mon_chain_start(\n\u001b[0;32m    232\u001b[0m     dumpd(\u001b[39mself\u001b[39m),\n\u001b[0;32m    233\u001b[0m     inputs,\n\u001b[0;32m    234\u001b[0m )\n\u001b[0;32m    235\u001b[0m \u001b[39mtry\u001b[39;00m:\n\u001b[0;32m    236\u001b[0m     outputs \u001b[39m=\u001b[39m (\n\u001b[1;32m--> 237\u001b[0m         \u001b[39mself\u001b[39;49m\u001b[39m.\u001b[39;49m_call(inputs, run_manager\u001b[39m=\u001b[39;49mrun_manager)\n\u001b[0;32m    238\u001b[0m         \u001b[39mif\u001b[39;00m new_arg_supported\n\u001b[0;32m    239\u001b[0m         \u001b[39melse\u001b[39;00m \u001b[39mself\u001b[39m\u001b[39m.\u001b[39m_call(inputs)\n\u001b[0;32m    240\u001b[0m     )\n\u001b[0;32m    241\u001b[0m \u001b[39mexcept\u001b[39;00m (\u001b[39mKeyboardInterrupt\u001b[39;00m, \u001b[39mException\u001b[39;00m) \u001b[39mas\u001b[39;00m e:\n\u001b[0;32m    242\u001b[0m     run_manager\u001b[39m.\u001b[39mon_chain_error(e)\n",
      "File \u001b[1;32mc:\\Users\\tarim\\AppData\\Local\\Programs\\Python\\Python311\\Lib\\site-packages\\langchain\\agents\\agent.py:1010\u001b[0m, in \u001b[0;36mAgentExecutor._call\u001b[1;34m(self, inputs, run_manager)\u001b[0m\n\u001b[0;32m   1008\u001b[0m \u001b[39m# We now enter the agent loop (until it returns something).\u001b[39;00m\n\u001b[0;32m   1009\u001b[0m \u001b[39mwhile\u001b[39;00m \u001b[39mself\u001b[39m\u001b[39m.\u001b[39m_should_continue(iterations, time_elapsed):\n\u001b[1;32m-> 1010\u001b[0m     next_step_output \u001b[39m=\u001b[39m \u001b[39mself\u001b[39;49m\u001b[39m.\u001b[39;49m_take_next_step(\n\u001b[0;32m   1011\u001b[0m         name_to_tool_map,\n\u001b[0;32m   1012\u001b[0m         color_mapping,\n\u001b[0;32m   1013\u001b[0m         inputs,\n\u001b[0;32m   1014\u001b[0m         intermediate_steps,\n\u001b[0;32m   1015\u001b[0m         run_manager\u001b[39m=\u001b[39;49mrun_manager,\n\u001b[0;32m   1016\u001b[0m     )\n\u001b[0;32m   1017\u001b[0m     \u001b[39mif\u001b[39;00m \u001b[39misinstance\u001b[39m(next_step_output, AgentFinish):\n\u001b[0;32m   1018\u001b[0m         \u001b[39mreturn\u001b[39;00m \u001b[39mself\u001b[39m\u001b[39m.\u001b[39m_return(\n\u001b[0;32m   1019\u001b[0m             next_step_output, intermediate_steps, run_manager\u001b[39m=\u001b[39mrun_manager\n\u001b[0;32m   1020\u001b[0m         )\n",
      "File \u001b[1;32mc:\\Users\\tarim\\AppData\\Local\\Programs\\Python\\Python311\\Lib\\site-packages\\langchain\\agents\\agent.py:824\u001b[0m, in \u001b[0;36mAgentExecutor._take_next_step\u001b[1;34m(self, name_to_tool_map, color_mapping, inputs, intermediate_steps, run_manager)\u001b[0m\n\u001b[0;32m    822\u001b[0m     raise_error \u001b[39m=\u001b[39m \u001b[39mFalse\u001b[39;00m\n\u001b[0;32m    823\u001b[0m \u001b[39mif\u001b[39;00m raise_error:\n\u001b[1;32m--> 824\u001b[0m     \u001b[39mraise\u001b[39;00m e\n\u001b[0;32m    825\u001b[0m text \u001b[39m=\u001b[39m \u001b[39mstr\u001b[39m(e)\n\u001b[0;32m    826\u001b[0m \u001b[39mif\u001b[39;00m \u001b[39misinstance\u001b[39m(\u001b[39mself\u001b[39m\u001b[39m.\u001b[39mhandle_parsing_errors, \u001b[39mbool\u001b[39m):\n",
      "File \u001b[1;32mc:\\Users\\tarim\\AppData\\Local\\Programs\\Python\\Python311\\Lib\\site-packages\\langchain\\agents\\agent.py:813\u001b[0m, in \u001b[0;36mAgentExecutor._take_next_step\u001b[1;34m(self, name_to_tool_map, color_mapping, inputs, intermediate_steps, run_manager)\u001b[0m\n\u001b[0;32m    810\u001b[0m     intermediate_steps \u001b[39m=\u001b[39m \u001b[39mself\u001b[39m\u001b[39m.\u001b[39m_prepare_intermediate_steps(intermediate_steps)\n\u001b[0;32m    812\u001b[0m     \u001b[39m# Call the LLM to see what to do.\u001b[39;00m\n\u001b[1;32m--> 813\u001b[0m     output \u001b[39m=\u001b[39m \u001b[39mself\u001b[39;49m\u001b[39m.\u001b[39;49magent\u001b[39m.\u001b[39;49mplan(\n\u001b[0;32m    814\u001b[0m         intermediate_steps,\n\u001b[0;32m    815\u001b[0m         callbacks\u001b[39m=\u001b[39;49mrun_manager\u001b[39m.\u001b[39;49mget_child() \u001b[39mif\u001b[39;49;00m run_manager \u001b[39melse\u001b[39;49;00m \u001b[39mNone\u001b[39;49;00m,\n\u001b[0;32m    816\u001b[0m         \u001b[39m*\u001b[39;49m\u001b[39m*\u001b[39;49minputs,\n\u001b[0;32m    817\u001b[0m     )\n\u001b[0;32m    818\u001b[0m \u001b[39mexcept\u001b[39;00m OutputParserException \u001b[39mas\u001b[39;00m e:\n\u001b[0;32m    819\u001b[0m     \u001b[39mif\u001b[39;00m \u001b[39misinstance\u001b[39m(\u001b[39mself\u001b[39m\u001b[39m.\u001b[39mhandle_parsing_errors, \u001b[39mbool\u001b[39m):\n",
      "File \u001b[1;32mc:\\Users\\tarim\\AppData\\Local\\Programs\\Python\\Python311\\Lib\\site-packages\\langchain\\agents\\agent.py:456\u001b[0m, in \u001b[0;36mAgent.plan\u001b[1;34m(self, intermediate_steps, callbacks, **kwargs)\u001b[0m\n\u001b[0;32m    454\u001b[0m full_inputs \u001b[39m=\u001b[39m \u001b[39mself\u001b[39m\u001b[39m.\u001b[39mget_full_inputs(intermediate_steps, \u001b[39m*\u001b[39m\u001b[39m*\u001b[39mkwargs)\n\u001b[0;32m    455\u001b[0m full_output \u001b[39m=\u001b[39m \u001b[39mself\u001b[39m\u001b[39m.\u001b[39mllm_chain\u001b[39m.\u001b[39mpredict(callbacks\u001b[39m=\u001b[39mcallbacks, \u001b[39m*\u001b[39m\u001b[39m*\u001b[39mfull_inputs)\n\u001b[1;32m--> 456\u001b[0m \u001b[39mreturn\u001b[39;00m \u001b[39mself\u001b[39;49m\u001b[39m.\u001b[39;49moutput_parser\u001b[39m.\u001b[39;49mparse(full_output)\n",
      "File \u001b[1;32mc:\\Users\\tarim\\AppData\\Local\\Programs\\Python\\Python311\\Lib\\site-packages\\langchain\\agents\\conversational\\output_parser.py:26\u001b[0m, in \u001b[0;36mConvoOutputParser.parse\u001b[1;34m(self, text)\u001b[0m\n\u001b[0;32m     24\u001b[0m match \u001b[39m=\u001b[39m re\u001b[39m.\u001b[39msearch(regex, text)\n\u001b[0;32m     25\u001b[0m \u001b[39mif\u001b[39;00m \u001b[39mnot\u001b[39;00m match:\n\u001b[1;32m---> 26\u001b[0m     \u001b[39mraise\u001b[39;00m OutputParserException(\u001b[39mf\u001b[39m\u001b[39m\"\u001b[39m\u001b[39mCould not parse LLM output: `\u001b[39m\u001b[39m{\u001b[39;00mtext\u001b[39m}\u001b[39;00m\u001b[39m`\u001b[39m\u001b[39m\"\u001b[39m)\n\u001b[0;32m     27\u001b[0m action \u001b[39m=\u001b[39m match\u001b[39m.\u001b[39mgroup(\u001b[39m1\u001b[39m)\n\u001b[0;32m     28\u001b[0m action_input \u001b[39m=\u001b[39m match\u001b[39m.\u001b[39mgroup(\u001b[39m2\u001b[39m)\n",
      "\u001b[1;31mOutputParserException\u001b[0m: Could not parse LLM output: `Here's a Python solution using the Edmonds-Karp algorithm for maximum flow:\n\n```python\nfrom collections import deque\n\ndef bfs(rGraph, s, t, parent):\n    visited = [False]*len(rGraph)\n    queue = deque()\n    queue.append(s)\n    visited[s] = True\n\n    while queue:\n        u = queue.popleft()\n\n        for ind, val in enumerate(rGraph[u]):\n            if not visited[ind] and val > 0:\n                queue.append(ind)\n                visited[ind] = True\n                parent[ind] = u\n                if ind == t:\n                    return True\n\n    return False\n\ndef edmonds_karp(graph, source, sink):\n    parent = [-1]*len(graph)\n    max_flow = 0\n\n    while bfs(graph, source, sink, parent):\n        path_flow = float(\"Inf\")\n        s = sink\n        while s != source:\n            path_flow = min(path_flow, graph[parent[s]][s])\n            s = parent[s]\n\n        max_flow += path_flow\n\n        v = sink\n        while v != source:\n            u = parent[v]\n            graph[u][v] -= path_flow\n            graph[v][u] += path_flow\n            v = parent[v]\n\n    return max_flow\n\ndef solution(entrances, exits, path):\n    source = [0]*len(path)\n    sink = [0]*len(path)\n\n    for entrance in entrances:\n        source[entrance] = sum(path[entrance])\n\n    for exit in exits:\n        sink[exit] = sum(row[exit] for row in path)\n\n    graph = [a+b for a, b in zip(source, sink)]\n    return edmonds_karp(graph, 0, len(graph)-1)\n```\n\nThis code first defines a breadth-first search (BFS) function that is used to find an augmenting path in the residual graph. The Edmonds-Karp algorithm is then implemented, which uses the BFS to find the maximum flow in the graph. The `solution` function prepares the graph and calls the Edmonds-Karp algorithm with the source and sink nodes.\n\nPlease note that this is a basic implementation and might need adjustments based on the specific requirements of your problem. For example, this code assumes that the graph is represented as an adjacency matrix, and that the capacities are non-negative integers. If your graph is represented differently, or if the capacities can be floating-point numbers, you might need to modify the code accordingly.`"
     ]
    }
   ],
   "source": [
    "agent_chain.run(input=\"pass the python code for that logic\" outp)"
   ]
  },
  {
   "cell_type": "code",
   "execution_count": null,
   "metadata": {},
   "outputs": [
    {
     "name": "stdout",
     "output_type": "stream",
     "text": [
      "\n",
      "\n",
      "\u001b[1m> Entering new AgentExecutor chain...\u001b[0m\n"
     ]
    },
    {
     "ename": "OutputParserException",
     "evalue": "Could not parse LLM output: `Sure, here are some test cases for the function:\n\n```python\nprint(solution(\"abccbaabccba\"))  # Output: 2\nprint(solution(\"abcabcabcabc\"))  # Output: 4\nprint(solution(\"abcdabcdabcdabcd\"))  # Output: 4\nprint(solution(\"abcdeabcdeabcdeabcdeabcde\"))  # Output: 5\nprint(solution(\"abcdefabcdefabcdefabcdefabcdefabcdef\"))  # Output: 6\nprint(solution(\"a\"))  # Output: 1\nprint(solution(\"aa\"))  # Output: 2\nprint(solution(\"aaa\"))  # Output: 3\nprint(solution(\"aaaa\"))  # Output: 4\nprint(solution(\"aaaaa\"))  # Output: 5\nprint(solution(\"aaaaaa\"))  # Output: 6\nprint(solution(\"aaaaaaa\"))  # Output: 7\nprint(solution(\"aaaaaaaa\"))  # Output: 8\nprint(solution(\"aaaaaaaaa\"))  # Output: 9\nprint(solution(\"aaaaaaaaaa\"))  # Output: 10\n```\n\nThese test cases cover a variety of scenarios, including strings that are made up of multiple repetitions of the same subpattern, strings that are made up of multiple repetitions of different subpatterns, and strings that are not made up of any repeated subpatterns.`",
     "output_type": "error",
     "traceback": [
      "\u001b[1;31m---------------------------------------------------------------------------\u001b[0m",
      "\u001b[1;31mOutputParserException\u001b[0m                     Traceback (most recent call last)",
      "Cell \u001b[1;32mIn[13], line 1\u001b[0m\n\u001b[1;32m----> 1\u001b[0m agent_chain\u001b[39m.\u001b[39;49mrun(\u001b[39minput\u001b[39;49m\u001b[39m=\u001b[39;49m\u001b[39m\"\u001b[39;49m\u001b[39mgenerate test strings with answers for it\u001b[39;49m\u001b[39m\"\u001b[39;49m)\n",
      "File \u001b[1;32mc:\\Users\\tarim\\AppData\\Local\\Programs\\Python\\Python311\\Lib\\site-packages\\langchain\\chains\\base.py:445\u001b[0m, in \u001b[0;36mChain.run\u001b[1;34m(self, callbacks, tags, metadata, *args, **kwargs)\u001b[0m\n\u001b[0;32m    440\u001b[0m     \u001b[39mreturn\u001b[39;00m \u001b[39mself\u001b[39m(args[\u001b[39m0\u001b[39m], callbacks\u001b[39m=\u001b[39mcallbacks, tags\u001b[39m=\u001b[39mtags, metadata\u001b[39m=\u001b[39mmetadata)[\n\u001b[0;32m    441\u001b[0m         _output_key\n\u001b[0;32m    442\u001b[0m     ]\n\u001b[0;32m    444\u001b[0m \u001b[39mif\u001b[39;00m kwargs \u001b[39mand\u001b[39;00m \u001b[39mnot\u001b[39;00m args:\n\u001b[1;32m--> 445\u001b[0m     \u001b[39mreturn\u001b[39;00m \u001b[39mself\u001b[39;49m(kwargs, callbacks\u001b[39m=\u001b[39;49mcallbacks, tags\u001b[39m=\u001b[39;49mtags, metadata\u001b[39m=\u001b[39;49mmetadata)[\n\u001b[0;32m    446\u001b[0m         _output_key\n\u001b[0;32m    447\u001b[0m     ]\n\u001b[0;32m    449\u001b[0m \u001b[39mif\u001b[39;00m \u001b[39mnot\u001b[39;00m kwargs \u001b[39mand\u001b[39;00m \u001b[39mnot\u001b[39;00m args:\n\u001b[0;32m    450\u001b[0m     \u001b[39mraise\u001b[39;00m \u001b[39mValueError\u001b[39;00m(\n\u001b[0;32m    451\u001b[0m         \u001b[39m\"\u001b[39m\u001b[39m`run` supported with either positional arguments or keyword arguments,\u001b[39m\u001b[39m\"\u001b[39m\n\u001b[0;32m    452\u001b[0m         \u001b[39m\"\u001b[39m\u001b[39m but none were provided.\u001b[39m\u001b[39m\"\u001b[39m\n\u001b[0;32m    453\u001b[0m     )\n",
      "File \u001b[1;32mc:\\Users\\tarim\\AppData\\Local\\Programs\\Python\\Python311\\Lib\\site-packages\\langchain\\chains\\base.py:243\u001b[0m, in \u001b[0;36mChain.__call__\u001b[1;34m(self, inputs, return_only_outputs, callbacks, tags, metadata, include_run_info)\u001b[0m\n\u001b[0;32m    241\u001b[0m \u001b[39mexcept\u001b[39;00m (\u001b[39mKeyboardInterrupt\u001b[39;00m, \u001b[39mException\u001b[39;00m) \u001b[39mas\u001b[39;00m e:\n\u001b[0;32m    242\u001b[0m     run_manager\u001b[39m.\u001b[39mon_chain_error(e)\n\u001b[1;32m--> 243\u001b[0m     \u001b[39mraise\u001b[39;00m e\n\u001b[0;32m    244\u001b[0m run_manager\u001b[39m.\u001b[39mon_chain_end(outputs)\n\u001b[0;32m    245\u001b[0m final_outputs: Dict[\u001b[39mstr\u001b[39m, Any] \u001b[39m=\u001b[39m \u001b[39mself\u001b[39m\u001b[39m.\u001b[39mprep_outputs(\n\u001b[0;32m    246\u001b[0m     inputs, outputs, return_only_outputs\n\u001b[0;32m    247\u001b[0m )\n",
      "File \u001b[1;32mc:\\Users\\tarim\\AppData\\Local\\Programs\\Python\\Python311\\Lib\\site-packages\\langchain\\chains\\base.py:237\u001b[0m, in \u001b[0;36mChain.__call__\u001b[1;34m(self, inputs, return_only_outputs, callbacks, tags, metadata, include_run_info)\u001b[0m\n\u001b[0;32m    231\u001b[0m run_manager \u001b[39m=\u001b[39m callback_manager\u001b[39m.\u001b[39mon_chain_start(\n\u001b[0;32m    232\u001b[0m     dumpd(\u001b[39mself\u001b[39m),\n\u001b[0;32m    233\u001b[0m     inputs,\n\u001b[0;32m    234\u001b[0m )\n\u001b[0;32m    235\u001b[0m \u001b[39mtry\u001b[39;00m:\n\u001b[0;32m    236\u001b[0m     outputs \u001b[39m=\u001b[39m (\n\u001b[1;32m--> 237\u001b[0m         \u001b[39mself\u001b[39;49m\u001b[39m.\u001b[39;49m_call(inputs, run_manager\u001b[39m=\u001b[39;49mrun_manager)\n\u001b[0;32m    238\u001b[0m         \u001b[39mif\u001b[39;00m new_arg_supported\n\u001b[0;32m    239\u001b[0m         \u001b[39melse\u001b[39;00m \u001b[39mself\u001b[39m\u001b[39m.\u001b[39m_call(inputs)\n\u001b[0;32m    240\u001b[0m     )\n\u001b[0;32m    241\u001b[0m \u001b[39mexcept\u001b[39;00m (\u001b[39mKeyboardInterrupt\u001b[39;00m, \u001b[39mException\u001b[39;00m) \u001b[39mas\u001b[39;00m e:\n\u001b[0;32m    242\u001b[0m     run_manager\u001b[39m.\u001b[39mon_chain_error(e)\n",
      "File \u001b[1;32mc:\\Users\\tarim\\AppData\\Local\\Programs\\Python\\Python311\\Lib\\site-packages\\langchain\\agents\\agent.py:1010\u001b[0m, in \u001b[0;36mAgentExecutor._call\u001b[1;34m(self, inputs, run_manager)\u001b[0m\n\u001b[0;32m   1008\u001b[0m \u001b[39m# We now enter the agent loop (until it returns something).\u001b[39;00m\n\u001b[0;32m   1009\u001b[0m \u001b[39mwhile\u001b[39;00m \u001b[39mself\u001b[39m\u001b[39m.\u001b[39m_should_continue(iterations, time_elapsed):\n\u001b[1;32m-> 1010\u001b[0m     next_step_output \u001b[39m=\u001b[39m \u001b[39mself\u001b[39;49m\u001b[39m.\u001b[39;49m_take_next_step(\n\u001b[0;32m   1011\u001b[0m         name_to_tool_map,\n\u001b[0;32m   1012\u001b[0m         color_mapping,\n\u001b[0;32m   1013\u001b[0m         inputs,\n\u001b[0;32m   1014\u001b[0m         intermediate_steps,\n\u001b[0;32m   1015\u001b[0m         run_manager\u001b[39m=\u001b[39;49mrun_manager,\n\u001b[0;32m   1016\u001b[0m     )\n\u001b[0;32m   1017\u001b[0m     \u001b[39mif\u001b[39;00m \u001b[39misinstance\u001b[39m(next_step_output, AgentFinish):\n\u001b[0;32m   1018\u001b[0m         \u001b[39mreturn\u001b[39;00m \u001b[39mself\u001b[39m\u001b[39m.\u001b[39m_return(\n\u001b[0;32m   1019\u001b[0m             next_step_output, intermediate_steps, run_manager\u001b[39m=\u001b[39mrun_manager\n\u001b[0;32m   1020\u001b[0m         )\n",
      "File \u001b[1;32mc:\\Users\\tarim\\AppData\\Local\\Programs\\Python\\Python311\\Lib\\site-packages\\langchain\\agents\\agent.py:824\u001b[0m, in \u001b[0;36mAgentExecutor._take_next_step\u001b[1;34m(self, name_to_tool_map, color_mapping, inputs, intermediate_steps, run_manager)\u001b[0m\n\u001b[0;32m    822\u001b[0m     raise_error \u001b[39m=\u001b[39m \u001b[39mFalse\u001b[39;00m\n\u001b[0;32m    823\u001b[0m \u001b[39mif\u001b[39;00m raise_error:\n\u001b[1;32m--> 824\u001b[0m     \u001b[39mraise\u001b[39;00m e\n\u001b[0;32m    825\u001b[0m text \u001b[39m=\u001b[39m \u001b[39mstr\u001b[39m(e)\n\u001b[0;32m    826\u001b[0m \u001b[39mif\u001b[39;00m \u001b[39misinstance\u001b[39m(\u001b[39mself\u001b[39m\u001b[39m.\u001b[39mhandle_parsing_errors, \u001b[39mbool\u001b[39m):\n",
      "File \u001b[1;32mc:\\Users\\tarim\\AppData\\Local\\Programs\\Python\\Python311\\Lib\\site-packages\\langchain\\agents\\agent.py:813\u001b[0m, in \u001b[0;36mAgentExecutor._take_next_step\u001b[1;34m(self, name_to_tool_map, color_mapping, inputs, intermediate_steps, run_manager)\u001b[0m\n\u001b[0;32m    810\u001b[0m     intermediate_steps \u001b[39m=\u001b[39m \u001b[39mself\u001b[39m\u001b[39m.\u001b[39m_prepare_intermediate_steps(intermediate_steps)\n\u001b[0;32m    812\u001b[0m     \u001b[39m# Call the LLM to see what to do.\u001b[39;00m\n\u001b[1;32m--> 813\u001b[0m     output \u001b[39m=\u001b[39m \u001b[39mself\u001b[39;49m\u001b[39m.\u001b[39;49magent\u001b[39m.\u001b[39;49mplan(\n\u001b[0;32m    814\u001b[0m         intermediate_steps,\n\u001b[0;32m    815\u001b[0m         callbacks\u001b[39m=\u001b[39;49mrun_manager\u001b[39m.\u001b[39;49mget_child() \u001b[39mif\u001b[39;49;00m run_manager \u001b[39melse\u001b[39;49;00m \u001b[39mNone\u001b[39;49;00m,\n\u001b[0;32m    816\u001b[0m         \u001b[39m*\u001b[39;49m\u001b[39m*\u001b[39;49minputs,\n\u001b[0;32m    817\u001b[0m     )\n\u001b[0;32m    818\u001b[0m \u001b[39mexcept\u001b[39;00m OutputParserException \u001b[39mas\u001b[39;00m e:\n\u001b[0;32m    819\u001b[0m     \u001b[39mif\u001b[39;00m \u001b[39misinstance\u001b[39m(\u001b[39mself\u001b[39m\u001b[39m.\u001b[39mhandle_parsing_errors, \u001b[39mbool\u001b[39m):\n",
      "File \u001b[1;32mc:\\Users\\tarim\\AppData\\Local\\Programs\\Python\\Python311\\Lib\\site-packages\\langchain\\agents\\agent.py:456\u001b[0m, in \u001b[0;36mAgent.plan\u001b[1;34m(self, intermediate_steps, callbacks, **kwargs)\u001b[0m\n\u001b[0;32m    454\u001b[0m full_inputs \u001b[39m=\u001b[39m \u001b[39mself\u001b[39m\u001b[39m.\u001b[39mget_full_inputs(intermediate_steps, \u001b[39m*\u001b[39m\u001b[39m*\u001b[39mkwargs)\n\u001b[0;32m    455\u001b[0m full_output \u001b[39m=\u001b[39m \u001b[39mself\u001b[39m\u001b[39m.\u001b[39mllm_chain\u001b[39m.\u001b[39mpredict(callbacks\u001b[39m=\u001b[39mcallbacks, \u001b[39m*\u001b[39m\u001b[39m*\u001b[39mfull_inputs)\n\u001b[1;32m--> 456\u001b[0m \u001b[39mreturn\u001b[39;00m \u001b[39mself\u001b[39;49m\u001b[39m.\u001b[39;49moutput_parser\u001b[39m.\u001b[39;49mparse(full_output)\n",
      "File \u001b[1;32mc:\\Users\\tarim\\AppData\\Local\\Programs\\Python\\Python311\\Lib\\site-packages\\langchain\\agents\\conversational\\output_parser.py:26\u001b[0m, in \u001b[0;36mConvoOutputParser.parse\u001b[1;34m(self, text)\u001b[0m\n\u001b[0;32m     24\u001b[0m match \u001b[39m=\u001b[39m re\u001b[39m.\u001b[39msearch(regex, text)\n\u001b[0;32m     25\u001b[0m \u001b[39mif\u001b[39;00m \u001b[39mnot\u001b[39;00m match:\n\u001b[1;32m---> 26\u001b[0m     \u001b[39mraise\u001b[39;00m OutputParserException(\u001b[39mf\u001b[39m\u001b[39m\"\u001b[39m\u001b[39mCould not parse LLM output: `\u001b[39m\u001b[39m{\u001b[39;00mtext\u001b[39m}\u001b[39;00m\u001b[39m`\u001b[39m\u001b[39m\"\u001b[39m)\n\u001b[0;32m     27\u001b[0m action \u001b[39m=\u001b[39m match\u001b[39m.\u001b[39mgroup(\u001b[39m1\u001b[39m)\n\u001b[0;32m     28\u001b[0m action_input \u001b[39m=\u001b[39m match\u001b[39m.\u001b[39mgroup(\u001b[39m2\u001b[39m)\n",
      "\u001b[1;31mOutputParserException\u001b[0m: Could not parse LLM output: `Sure, here are some test cases for the function:\n\n```python\nprint(solution(\"abccbaabccba\"))  # Output: 2\nprint(solution(\"abcabcabcabc\"))  # Output: 4\nprint(solution(\"abcdabcdabcdabcd\"))  # Output: 4\nprint(solution(\"abcdeabcdeabcdeabcdeabcde\"))  # Output: 5\nprint(solution(\"abcdefabcdefabcdefabcdefabcdefabcdef\"))  # Output: 6\nprint(solution(\"a\"))  # Output: 1\nprint(solution(\"aa\"))  # Output: 2\nprint(solution(\"aaa\"))  # Output: 3\nprint(solution(\"aaaa\"))  # Output: 4\nprint(solution(\"aaaaa\"))  # Output: 5\nprint(solution(\"aaaaaa\"))  # Output: 6\nprint(solution(\"aaaaaaa\"))  # Output: 7\nprint(solution(\"aaaaaaaa\"))  # Output: 8\nprint(solution(\"aaaaaaaaa\"))  # Output: 9\nprint(solution(\"aaaaaaaaaa\"))  # Output: 10\n```\n\nThese test cases cover a variety of scenarios, including strings that are made up of multiple repetitions of the same subpattern, strings that are made up of multiple repetitions of different subpatterns, and strings that are not made up of any repeated subpatterns.`"
     ]
    }
   ],
   "source": [
    "agent_chain.run(input=\"\")"
   ]
  },
  {
   "cell_type": "code",
   "execution_count": null,
   "metadata": {},
   "outputs": [
    {
     "data": {
      "text/plain": [
       "1"
      ]
     },
     "execution_count": 14,
     "metadata": {},
     "output_type": "execute_result"
    }
   ],
   "source": [
    "solution(\"aaaabaffa\")"
   ]
  },
  {
   "cell_type": "code",
   "execution_count": null,
   "metadata": {},
   "outputs": [
    {
     "name": "stdout",
     "output_type": "stream",
     "text": [
      "\n",
      "\n",
      "\u001b[1m> Entering new AgentExecutor chain...\u001b[0m\n",
      "\u001b[32;1m\u001b[1;3mThought: Do I need to use a tool? No\n",
      "AI: This problem can be solved by implementing the algorithm described in the problem statement and keeping track of the minion IDs that have been seen so far. When a minion ID is repeated, we know that we've entered a cycle, and we can calculate the length of the cycle by subtracting the position at which we first saw this minion ID from the current position.\n",
      "\n",
      "Here's a Python function that solves this problem:\n",
      "\n",
      "```python\n",
      "def solution(n, b):\n",
      "    seen = {}\n",
      "    while n not in seen:\n",
      "        seen[n] = len(seen)\n",
      "        n = list(n)\n",
      "        x = ''.join(sorted(n, reverse=True))\n",
      "        y = ''.join(sorted(n))\n",
      "        z = int(x, b) - int(y, b)\n",
      "        n = \"{:0>{}}\".format(int(str(z), 10), len(n))\n",
      "    return len(seen) - seen[n]\n",
      "```\n",
      "\n",
      "This function works by first initializing an empty dictionary `seen` to keep track of the minion IDs that have been seen so far. It then enters a loop that continues until the current minion ID `n` has been seen before. In each iteration of the loop, it calculates `x`, `y`, and `z` as described in the problem statement, and then updates `n` to be `z` (converted back to base `b` and padded with leading zeros if necessary). It also adds the current `n` to the `seen` dictionary. When a minion ID is repeated, the function calculates the length of the cycle as the difference between the current position and the position at which the repeated minion ID was first seen, and returns this value.\u001b[0m\n",
      "\n",
      "\u001b[1m> Finished chain.\u001b[0m\n"
     ]
    },
    {
     "data": {
      "text/plain": [
       "'This problem can be solved by implementing the algorithm described in the problem statement and keeping track of the minion IDs that have been seen so far. When a minion ID is repeated, we know that we\\'ve entered a cycle, and we can calculate the length of the cycle by subtracting the position at which we first saw this minion ID from the current position.\\n\\nHere\\'s a Python function that solves this problem:\\n\\n```python\\ndef solution(n, b):\\n    seen = {}\\n    while n not in seen:\\n        seen[n] = len(seen)\\n        n = list(n)\\n        x = \\'\\'.join(sorted(n, reverse=True))\\n        y = \\'\\'.join(sorted(n))\\n        z = int(x, b) - int(y, b)\\n        n = \"{:0>{}}\".format(int(str(z), 10), len(n))\\n    return len(seen) - seen[n]\\n```\\n\\nThis function works by first initializing an empty dictionary `seen` to keep track of the minion IDs that have been seen so far. It then enters a loop that continues until the current minion ID `n` has been seen before. In each iteration of the loop, it calculates `x`, `y`, and `z` as described in the problem statement, and then updates `n` to be `z` (converted back to base `b` and padded with leading zeros if necessary). It also adds the current `n` to the `seen` dictionary. When a minion ID is repeated, the function calculates the length of the cycle as the difference between the current position and the position at which the repeated minion ID was first seen, and returns this value.'"
      ]
     },
     "execution_count": 18,
     "metadata": {},
     "output_type": "execute_result"
    }
   ],
   "source": [
    "agent_chain.run(input=r\"Commander Lambda uses an automated algorithm to assign minions randomly to tasks, in order to keep minions on their toes. But you've noticed a flaw in the algorithm -- it eventually loops back on itself, so that instead of assigning new minions as it iterates, it gets stuck in a cycle of values so that the same minions end up doing the same tasks over and over again. You think proving this to Commander Lambda will help you make a case for your next promotion. You have worked out that the algorithm has the following process:\\n\"\n",
    "r\"1) Start with a random minion ID n, which is a nonnegative integer of length k in base b\\n\"\n",
    "r\"2) Define x and y as integers of length k. x has the digits of n in descending order, and y has the digits of n in ascending order\\n\"\n",
    "r\"3) Define z = x - y. Add leading zeros to z to maintain length k if necessary\\n\"\n",
    "r\"4) Assign n = z to get the next minion ID, and go back to step 2\\n\"\n",
    "\n",
    "r\"For example, given minion ID n = 1211, k = 4, b = 10, then x = 2111, y = 1112 and z = 2111 - 1112 = 0999. Then the next minion ID will be n = 0999 and the algorithm iterates again: x = 9990, y = 0999 and z = 9990 - 0999 = 8991, and so on. Depending on the values of n, k (derived from n), and b, at some point the algorithm reaches a cycle, such as by reaching a constant value. For example, starting with n = 210022, k = 6, b = 3, the algorithm will reach the cycle of values [210111, 122221, 102212] and it will stay in this cycle no matter how many times it continues iterating. Starting with n = 1211, the routine will reach the integer 6174, and since 7641 - 1467 is 6174, it will stay as that value no matter how many times it iterates.\\n\"\n",
    "\n",
    "r\"Given a minion ID as a string n representing a nonnegative integer of length k in base b, where 2 <= k <= 9 and 2 <= b <= 10, write a function solution(n, b) which returns the length of the ending cycle of the algorithm above starting with n. For instance, in the example above, solution(210022, 3) would return 3, since iterating on 102212 would return to 210111 when done in base 3. If the algorithm reaches a constant, such as 0, then the length is 1.\\n\"\n",
    "\n",
    "r\"Test cases==========\\n\"\n",
    "r\"Your code should pass the following test cases. Note that it may also be run against hidden test cases not shown here.\\n\"\n",
    "r\"Input:Solution.solution('1211', 10)Output:    1\\n\"\n",
    "r\"Input:Solution.solution('210022', 3)Output:    3\\n\"\n",
    "r\"Input:solution.solution('1211', 10)Output:    1\\n\"\n",
    "r\"Input:solution.solution('210022', 3)Output:    3\\n\")\n"
   ]
  },
  {
   "cell_type": "code",
   "execution_count": null,
   "metadata": {},
   "outputs": [
    {
     "ename": "SyntaxError",
     "evalue": "unterminated string literal (detected at line 1) (3495073429.py, line 1)",
     "output_type": "error",
     "traceback": [
      "\u001b[1;36m  Cell \u001b[1;32mIn[16], line 1\u001b[1;36m\u001b[0m\n\u001b[1;33m    agent_chain.run(input=r\"Commander Lambda uses an automated algorithm to assign minions randomly to tasks, in order to keep minions on their toes. But you've noticed a flaw in the algorithm -- it eventually loops back on itself, so that instead of assigning new minions as it iterates, it gets stuck in a cycle of values so that the same minions end up doing the same tasks over and over again. You think proving this to Commander Lambda will help you make a case for your next promotion. You have worked out that the algorithm has the following process:\u001b[0m\n\u001b[1;37m                          ^\u001b[0m\n\u001b[1;31mSyntaxError\u001b[0m\u001b[1;31m:\u001b[0m unterminated string literal (detected at line 1)\n"
     ]
    }
   ],
   "source": [
    "agent_chain.run(input=r\"Commander Lambda uses an automated algorithm to assign minions randomly to tasks, in order to keep minions on their toes. But you've noticed a flaw in the algorithm -- it eventually loops back on itself, so that instead of assigning new minions as it iterates, it gets stuck in a cycle of values so that the same minions end up doing the same tasks over and over again. You think proving this to Commander Lambda will help you make a case for your next promotion. You have worked out that the algorithm has the following process:/n\" \"1) Start with a random minion ID n, which is a nonnegative integer of length k in base b\n",
    "2) Define x and y as integers of length k. x has the digits of n in descending order, and y has the digits of n in ascending order\n",
    "3) Define z = x - y. Add leading zeros to z to maintain length k if necessary\n",
    "4) Assign n = z to get the next minion ID, and go back to step 2\n",
    "\n",
    "For example, given minion ID n = 1211, k = 4, b = 10, then x = 2111, y = 1112 and z = 2111 - 1112 = 0999. Then the next minion ID will be n = 0999 and the algorithm iterates again: x = 9990, y = 0999 and z = 9990 - 0999 = 8991, and so on. Depending on the values of n, k (derived from n), and b, at some point the algorithm reaches a cycle, such as by reaching a constant value. For example, starting with n = 210022, k = 6, b = 3, the algorithm will reach the cycle of values [210111, 122221, 102212] and it will stay in this cycle no matter how many times it continues iterating. Starting with n = 1211, the routine will reach the integer 6174, and since 7641 - 1467 is 6174, it will stay as that value no matter how many times it iterates.\n",
    "\n",
    "Given a minion ID as a string n representing a nonnegative integer of length k in base b, where 2 <= k <= 9 and 2 <= b <= 10, write a function solution(n, b) which returns the length of the ending cycle of the algorithm above starting with n. For instance, in the example above, solution(210022, 3) would return 3, since iterating on 102212 would return to 210111 when done in base 3. If the algorithm reaches a constant, such as 0, then the length is 1. \n",
    "\n",
    "Test cases==========\n",
    "Your code should pass the following test cases. Note that it may also be run against hidden test cases not shown here.\n",
    "Input:Solution.solution('1211', 10)Output:    1\n",
    "Input:Solution.solution('210022', 3)Output:    3\n",
    "Input:solution.solution('1211', 10)Output:    1\n",
    "Input:solution.solution('210022', 3)Output:    3\")\n"
   ]
  },
  {
   "cell_type": "markdown",
   "metadata": {},
   "source": []
  },
  {
   "cell_type": "code",
   "execution_count": null,
   "metadata": {},
   "outputs": [],
   "source": [
    "def solution(n, b):\n",
    "    seen = {}\n",
    "    while n not in seen:\n",
    "        seen[n] = len(seen)\n",
    "        n = list(n)\n",
    "        x = ''.join(sorted(n, reverse=True))\n",
    "        y = ''.join(sorted(n))\n",
    "        z = int(x, b) - int(y, b)\n",
    "        n = \"{:0>{}}\".format(int(str(z), 10), len(n))\n",
    "    return len(seen) - seen[n]"
   ]
  },
  {
   "cell_type": "code",
   "execution_count": null,
   "metadata": {},
   "outputs": [
    {
     "data": {
      "text/plain": [
       "1"
      ]
     },
     "execution_count": 22,
     "metadata": {},
     "output_type": "execute_result"
    }
   ],
   "source": [
    "solution('1211', 10)"
   ]
  },
  {
   "cell_type": "code",
   "execution_count": null,
   "metadata": {},
   "outputs": [
    {
     "ename": "ValueError",
     "evalue": "invalid literal for int() with base 3: '865000'",
     "output_type": "error",
     "traceback": [
      "\u001b[1;31m---------------------------------------------------------------------------\u001b[0m",
      "\u001b[1;31mValueError\u001b[0m                                Traceback (most recent call last)",
      "Cell \u001b[1;32mIn[21], line 1\u001b[0m\n\u001b[1;32m----> 1\u001b[0m solution(\u001b[39m'\u001b[39;49m\u001b[39m210022\u001b[39;49m\u001b[39m'\u001b[39;49m, \u001b[39m3\u001b[39;49m)\n",
      "Cell \u001b[1;32mIn[19], line 8\u001b[0m, in \u001b[0;36msolution\u001b[1;34m(n, b)\u001b[0m\n\u001b[0;32m      6\u001b[0m     x \u001b[39m=\u001b[39m \u001b[39m'\u001b[39m\u001b[39m'\u001b[39m\u001b[39m.\u001b[39mjoin(\u001b[39msorted\u001b[39m(n, reverse\u001b[39m=\u001b[39m\u001b[39mTrue\u001b[39;00m))\n\u001b[0;32m      7\u001b[0m     y \u001b[39m=\u001b[39m \u001b[39m'\u001b[39m\u001b[39m'\u001b[39m\u001b[39m.\u001b[39mjoin(\u001b[39msorted\u001b[39m(n))\n\u001b[1;32m----> 8\u001b[0m     z \u001b[39m=\u001b[39m \u001b[39mint\u001b[39;49m(x, b) \u001b[39m-\u001b[39m \u001b[39mint\u001b[39m(y, b)\n\u001b[0;32m      9\u001b[0m     n \u001b[39m=\u001b[39m \u001b[39m\"\u001b[39m\u001b[39m{\u001b[39m\u001b[39m:0>\u001b[39m\u001b[39m{}\u001b[39;00m\u001b[39m}\u001b[39m\u001b[39m\"\u001b[39m\u001b[39m.\u001b[39mformat(\u001b[39mint\u001b[39m(\u001b[39mstr\u001b[39m(z), \u001b[39m10\u001b[39m), \u001b[39mlen\u001b[39m(n))\n\u001b[0;32m     10\u001b[0m \u001b[39mreturn\u001b[39;00m \u001b[39mlen\u001b[39m(seen) \u001b[39m-\u001b[39m seen[n]\n",
      "\u001b[1;31mValueError\u001b[0m: invalid literal for int() with base 3: '865000'"
     ]
    }
   ],
   "source": [
    "solution('210022', 3)"
   ]
  },
  {
   "cell_type": "code",
   "execution_count": null,
   "metadata": {},
   "outputs": [],
   "source": [
    "def order(n):\n",
    "    return int(''.join(sorted(n, reverse=True))), int(''.join(sorted(n)))\n",
    "\n",
    "\n",
    "def subtract(n, b):\n",
    "    k = len(n)\n",
    "    x, y = order(n)\n",
    "\n",
    "    difference = \"\"\n",
    "    borrow = 0\n",
    "\n",
    "    while x > 0:\n",
    "        tmp = (x % 10) - (y % 10) + borrow\n",
    "\n",
    "        if tmp < 0:\n",
    "            tmp += b\n",
    "            borrow = -1\n",
    "\n",
    "        else:\n",
    "            borrow = 0\n",
    "\n",
    "        difference += str(tmp)\n",
    "\n",
    "        x //= 10\n",
    "        y //= 10\n",
    "\n",
    "    return (k - len(difference)) * '0' + difference[::-1]\n",
    "  \n",
    "def solution(n, b):\n",
    "    ids = []\n",
    "\n",
    "    while True:\n",
    "        z = subtract(n, b)\n",
    "\n",
    "        if z in ids:\n",
    "            break\n",
    "\n",
    "        else:\n",
    "            ids.append(z)\n",
    "            n = z\n",
    "\n",
    "    return len(ids) - ids.index(z)"
   ]
  },
  {
   "cell_type": "code",
   "execution_count": null,
   "metadata": {},
   "outputs": [
    {
     "data": {
      "text/plain": [
       "1"
      ]
     },
     "execution_count": 31,
     "metadata": {},
     "output_type": "execute_result"
    }
   ],
   "source": [
    "solution('1211', 10)"
   ]
  },
  {
   "cell_type": "code",
   "execution_count": null,
   "metadata": {},
   "outputs": [
    {
     "ename": "SyntaxError",
     "evalue": "unterminated string literal (detected at line 2) (1260022806.py, line 2)",
     "output_type": "error",
     "traceback": [
      "\u001b[1;36m  Cell \u001b[1;32mIn[33], line 2\u001b[1;36m\u001b[0m\n\u001b[1;33m    r\"def order(n):\u001b[0m\n\u001b[1;37m    ^\u001b[0m\n\u001b[1;31mSyntaxError\u001b[0m\u001b[1;31m:\u001b[0m unterminated string literal (detected at line 2)\n"
     ]
    }
   ],
   "source": [
    "agent_chain.run(input=r\"refactor the following code so that is one function named solution which takes in 'solution's parameters and returns what the function 'solutions' returns\\n\"\n",
    "                r\"def order(n):\n",
    "    return int(''.join(sorted(n, reverse=True))), int(''.join(sorted(n)))\n",
    "\n",
    "\n",
    "def subtract(n, b):\n",
    "    k = len(n)\n",
    "    x, y = order(n)\n",
    "\n",
    "    difference = \"\"\n",
    "    borrow = 0\n",
    "\n",
    "    while x > 0:\n",
    "        tmp = (x % 10) - (y % 10) + borrow\n",
    "\n",
    "        if tmp < 0:\n",
    "            tmp += b\n",
    "            borrow = -1\n",
    "\n",
    "        else:\n",
    "            borrow = 0\n",
    "\n",
    "        difference += str(tmp)\n",
    "\n",
    "        x //= 10\n",
    "        y //= 10\n",
    "\n",
    "    return (k - len(difference)) * '0' + difference[::-1]\n",
    "  \n",
    "def solution(n, b):\n",
    "    ids = []\n",
    "\n",
    "    while True:\n",
    "        z = subtract(n, b)\n",
    "\n",
    "        if z in ids:\n",
    "            break\n",
    "\n",
    "        else:\n",
    "            ids.append(z)\n",
    "            n = z\n",
    "\n",
    "    return len(ids) - ids.index(z)\")"
   ]
  },
  {
   "cell_type": "code",
   "execution_count": null,
   "metadata": {},
   "outputs": [
    {
     "name": "stdout",
     "output_type": "stream",
     "text": [
      "1\n"
     ]
    },
    {
     "ename": "ValueError",
     "evalue": "invalid literal for int() with base 3: '865000'",
     "output_type": "error",
     "traceback": [
      "\u001b[1;31m---------------------------------------------------------------------------\u001b[0m",
      "\u001b[1;31mValueError\u001b[0m                                Traceback (most recent call last)",
      "Cell \u001b[1;32mIn[32], line 23\u001b[0m\n\u001b[0;32m     21\u001b[0m \u001b[39m# Test cases\u001b[39;00m\n\u001b[0;32m     22\u001b[0m \u001b[39mprint\u001b[39m(solution(\u001b[39m'\u001b[39m\u001b[39m1211\u001b[39m\u001b[39m'\u001b[39m, \u001b[39m10\u001b[39m))  \u001b[39m# Output: 1\u001b[39;00m\n\u001b[1;32m---> 23\u001b[0m \u001b[39mprint\u001b[39m(solution(\u001b[39m'\u001b[39;49m\u001b[39m210022\u001b[39;49m\u001b[39m'\u001b[39;49m, \u001b[39m3\u001b[39;49m))  \u001b[39m# Output: 3\u001b[39;00m\n",
      "Cell \u001b[1;32mIn[32], line 19\u001b[0m, in \u001b[0;36msolution\u001b[1;34m(n, b)\u001b[0m\n\u001b[0;32m     16\u001b[0m         i \u001b[39m+\u001b[39m\u001b[39m=\u001b[39m \u001b[39m1\u001b[39m\n\u001b[0;32m     17\u001b[0m     \u001b[39mreturn\u001b[39;00m i \u001b[39m-\u001b[39m seen[n]\n\u001b[1;32m---> 19\u001b[0m \u001b[39mreturn\u001b[39;00m cycle_length(n, b)\n",
      "Cell \u001b[1;32mIn[32], line 15\u001b[0m, in \u001b[0;36msolution.<locals>.cycle_length\u001b[1;34m(n, b)\u001b[0m\n\u001b[0;32m     13\u001b[0m     x \u001b[39m=\u001b[39m \u001b[39m'\u001b[39m\u001b[39m'\u001b[39m\u001b[39m.\u001b[39mjoin(\u001b[39msorted\u001b[39m(n, reverse\u001b[39m=\u001b[39m\u001b[39mTrue\u001b[39;00m))\n\u001b[0;32m     14\u001b[0m     y \u001b[39m=\u001b[39m \u001b[39m'\u001b[39m\u001b[39m'\u001b[39m\u001b[39m.\u001b[39mjoin(\u001b[39msorted\u001b[39m(n))\n\u001b[1;32m---> 15\u001b[0m     n \u001b[39m=\u001b[39m calculate_z(x, y, k)\n\u001b[0;32m     16\u001b[0m     i \u001b[39m+\u001b[39m\u001b[39m=\u001b[39m \u001b[39m1\u001b[39m\n\u001b[0;32m     17\u001b[0m \u001b[39mreturn\u001b[39;00m i \u001b[39m-\u001b[39m seen[n]\n",
      "Cell \u001b[1;32mIn[32], line 3\u001b[0m, in \u001b[0;36msolution.<locals>.calculate_z\u001b[1;34m(x, y, k)\u001b[0m\n\u001b[0;32m      2\u001b[0m \u001b[39mdef\u001b[39;00m \u001b[39mcalculate_z\u001b[39m(x, y, k):\n\u001b[1;32m----> 3\u001b[0m     z \u001b[39m=\u001b[39m \u001b[39mint\u001b[39;49m(x, b) \u001b[39m-\u001b[39m \u001b[39mint\u001b[39m(y, b)\n\u001b[0;32m      4\u001b[0m     z_str \u001b[39m=\u001b[39m \u001b[39mformat\u001b[39m(z, \u001b[39mf\u001b[39m\u001b[39m'\u001b[39m\u001b[39m0\u001b[39m\u001b[39m{\u001b[39;00mk\u001b[39m}\u001b[39;00m\u001b[39md\u001b[39m\u001b[39m'\u001b[39m)\n\u001b[0;32m      5\u001b[0m     \u001b[39mreturn\u001b[39;00m z_str\n",
      "\u001b[1;31mValueError\u001b[0m: invalid literal for int() with base 3: '865000'"
     ]
    }
   ],
   "source": [
    "def solution(n, b):\n",
    "    def calculate_z(x, y, k):\n",
    "        z = int(x, b) - int(y, b)\n",
    "        z_str = format(z, f'0{k}d')\n",
    "        return z_str\n",
    "    \n",
    "    def cycle_length(n, b):\n",
    "        k = len(n)\n",
    "        seen = {}\n",
    "        i = 0\n",
    "        while n not in seen:\n",
    "            seen[n] = i\n",
    "            x = ''.join(sorted(n, reverse=True))\n",
    "            y = ''.join(sorted(n))\n",
    "            n = calculate_z(x, y, k)\n",
    "            i += 1\n",
    "        return i - seen[n]\n",
    "\n",
    "    return cycle_length(n, b)\n",
    "\n",
    "# Test cases\n",
    "print(solution('1211', 10))  # Output: 1\n",
    "print(solution('210022', 3))  # Output: 3\n"
   ]
  },
  {
   "cell_type": "code",
   "execution_count": 31,
   "metadata": {},
   "outputs": [],
   "source": [
    "def solution(n):\n",
    "    if int(n)<0 or int(n)>10000:\n",
    "        return None\n",
    "    def create_primes_string(limit):\n",
    "        primes_list = []\n",
    "        def is_prime(n):\n",
    "            '''this function returns True if n is a prime'''\n",
    "            if n <= 1:\n",
    "                return False \n",
    "        \n",
    "            for i in range(2, int(n ** 0.5) + 1):\n",
    "                if n % i == 0:\n",
    "                    return False\n",
    "        \n",
    "            return True\n",
    "            \n",
    "        #let us find the 10,000th prime:\n",
    "        def find_nth_prime(n):\n",
    "            prime_count = 0\n",
    "            num = 2\n",
    "            while prime_count < n:\n",
    "                if is_prime(num):\n",
    "                    prime_count += 1\n",
    "                if prime_count < n:\n",
    "                    num += 1\n",
    "            return num\n",
    "\n",
    "        #creating the list of prime numbers up to  \n",
    "        for i in range(0, find_nth_prime(limit+1)):\n",
    "            if is_prime(i):\n",
    "                primes_list.append(i)\n",
    "                \n",
    "        return primes_list\n",
    "\n",
    "    primes_list = create_primes_string(20000)\n",
    "    digits = []\n",
    "    for i in range(0,5):\n",
    "        digits.append(primes_list[n+i])\n",
    "        #print(digits)\n",
    "    #take the digits and turn them into a string\n",
    "    concatenated_string = ''.join(str(digit) for digit in digits)\n",
    "    id = concatenated_string[0:5]\n",
    "    return id\n",
    "    \n"
   ]
  },
  {
   "cell_type": "code",
   "execution_count": 34,
   "metadata": {},
   "outputs": [
    {
     "name": "stdout",
     "output_type": "stream",
     "text": [
      "[104743]\n",
      "[104743, 104759]\n",
      "[104743, 104759, 104761]\n",
      "[104743, 104759, 104761, 104773]\n",
      "[104743, 104759, 104761, 104773, 104779]\n"
     ]
    },
    {
     "data": {
      "text/plain": [
       "'10474'"
      ]
     },
     "execution_count": 34,
     "metadata": {},
     "output_type": "execute_result"
    }
   ],
   "source": [
    "solution(10000)"
   ]
  },
  {
   "cell_type": "code",
   "execution_count": 35,
   "metadata": {},
   "outputs": [
    {
     "data": {
      "text/plain": [
       "int"
      ]
     },
     "execution_count": 35,
     "metadata": {},
     "output_type": "execute_result"
    }
   ],
   "source": [
    "a = 2\n",
    "type(a)"
   ]
  },
  {
   "cell_type": "code",
   "execution_count": null,
   "metadata": {},
   "outputs": [],
   "source": [
    "def is_prime(n):\n",
    "            if n <= 1:\n",
    "                return False\n",
    "            for number in range(2, int(n ** 0.5) + 1):\n",
    "                if n % number == 0:\n",
    "                    return False\n",
    "            return True"
   ]
  },
  {
   "cell_type": "code",
   "execution_count": 39,
   "metadata": {},
   "outputs": [
    {
     "name": "stdout",
     "output_type": "stream",
     "text": [
      "0\n",
      "1\n",
      "2\n",
      "3\n"
     ]
    }
   ],
   "source": [
    "for i in range(0, 4):\n",
    "    print(i)\n"
   ]
  },
  {
   "cell_type": "code",
   "execution_count": 110,
   "metadata": {},
   "outputs": [],
   "source": [
    "def solution(n):\n",
    "    if type(n)!='int':\n",
    "        return None\n",
    "    if n<0 or n>10000:\n",
    "        return None\n",
    "    def create_primes_string(limit):\n",
    "        primes_list = []\n",
    "        def is_prime(n):\n",
    "            if n <= 1:\n",
    "                return False\n",
    "            for i in range(2, int(n ** 0.5) + 1):\n",
    "                if n % i == 0:\n",
    "                    return False\n",
    "            return True\n",
    "\n",
    "        def find_nth_prime(n):\n",
    "            prime_count = 0\n",
    "            num = 2\n",
    "            while prime_count < n:\n",
    "                if is_prime(num):\n",
    "                    prime_count += 1\n",
    "                if prime_count < n:\n",
    "                    num += 1\n",
    "            return num\n",
    "    \n",
    "        for i in range(0, find_nth_prime(limit+1)):\n",
    "            if is_prime(i):\n",
    "                primes_list.append(i)\n",
    "        return primes_list\n",
    "\n",
    "    primes_list = create_primes_string(20000)\n",
    "    digits = []\n",
    "    for i in range(0,5):\n",
    "        digits.append(primes_list[n+i])\n",
    "        #print(digits)\n",
    "    #take the digits and turn them into a string\n",
    "    concatenated_string = ''.join(str(digit) for digit in digits)\n",
    "    id = concatenated_string[0:5]\n",
    "    return id\n",
    "    \n"
   ]
  },
  {
   "cell_type": "code",
   "execution_count": 157,
   "metadata": {},
   "outputs": [],
   "source": [
    "def solution(n):\n",
    "    if str(type(n))!=str(type(2)):\n",
    "        return None\n",
    "    elif n<0 or n>10000:\n",
    "        return None\n",
    "    else:\n",
    "        def create_primes_string(limit):\n",
    "            primes_list = []\n",
    "            def is_prime(n):\n",
    "                if n <= 1:\n",
    "                    return False\n",
    "                for i in range(2, int(n ** 0.5) + 1):\n",
    "                    if n % i == 0:\n",
    "                        return False\n",
    "                return True\n",
    "\n",
    "            def find_nth_prime(n):\n",
    "                prime_count = 0\n",
    "                num = 2\n",
    "                while prime_count < n:\n",
    "                    if is_prime(num):\n",
    "                        prime_count += 1\n",
    "                    if prime_count < n:\n",
    "                        num += 1\n",
    "                return num\n",
    "        \n",
    "            for i in range(0, find_nth_prime(limit+1)):\n",
    "                if is_prime(i):\n",
    "                    primes_list.append(i)\n",
    "            return primes_list\n",
    "\n",
    "    primes_string = create_primes_string(20000)\n",
    "    digits = []\n",
    "    \n",
    "    for i in range(0,5):\n",
    "        digits.append(primes_string[n+i])\n",
    "        #print(digits)\n",
    "    #take the digits and turn them into a string\n",
    "    concatenated_string = ''.join(str(digit) for digit in digits)\n",
    "    id = concatenated_string[0:5]\n",
    "    id = int(id)\n",
    "    return id\n",
    "    \n"
   ]
  },
  {
   "cell_type": "code",
   "execution_count": 160,
   "metadata": {},
   "outputs": [
    {
     "data": {
      "text/plain": [
       "71113"
      ]
     },
     "execution_count": 160,
     "metadata": {},
     "output_type": "execute_result"
    }
   ],
   "source": [
    "solution(3)"
   ]
  },
  {
   "cell_type": "code",
   "execution_count": 42,
   "metadata": {},
   "outputs": [
    {
     "name": "stdout",
     "output_type": "stream",
     "text": [
      "pen\n"
     ]
    }
   ],
   "source": [
    "a = \"pe\"\n",
    "b = \"n\"\n",
    "\n",
    "a+b\n",
    "print(a)"
   ]
  },
  {
   "cell_type": "code",
   "execution_count": 99,
   "metadata": {},
   "outputs": [],
   "source": [
    "id=\"x\"\n",
    "name=\"o\"\n",
    "new_id = id.__add__(name)\n",
    "for i in range(0, 5):  \n",
    "    new_id=new_id.__add__(new_id)"
   ]
  },
  {
   "cell_type": "code",
   "execution_count": 100,
   "metadata": {},
   "outputs": [
    {
     "data": {
      "text/plain": [
       "'xoxoxoxoxoxoxoxoxoxoxoxoxoxoxoxoxoxoxoxoxoxoxoxoxoxoxoxoxoxoxoxo'"
      ]
     },
     "execution_count": 100,
     "metadata": {},
     "output_type": "execute_result"
    }
   ],
   "source": [
    "new_id"
   ]
  },
  {
   "cell_type": "code",
   "execution_count": 161,
   "metadata": {},
   "outputs": [],
   "source": [
    "def solution(n):\n",
    "    if str(type(n))!=str(type(2)):\n",
    "        return None\n",
    "    elif n<0 or n>10000:\n",
    "        return None\n",
    "    else:\n",
    "        def create_primes_string(limit):\n",
    "            primes_list = []\n",
    "            def is_prime(n):\n",
    "                if n <= 1:\n",
    "                    return False\n",
    "                for i in range(2, int(n ** 0.5) + 1):\n",
    "                    if n % i == 0:\n",
    "                        return False\n",
    "                return True\n",
    "\n",
    "            def find_nth_prime(n):\n",
    "                prime_count = 0\n",
    "                num = 2\n",
    "                while prime_count < n:\n",
    "                    if is_prime(num):\n",
    "                        prime_count += 1\n",
    "                    if prime_count < n:\n",
    "                        num += 1\n",
    "                return num\n",
    "        \n",
    "            for i in range(0, find_nth_prime(limit+1)):\n",
    "                if is_prime(i):\n",
    "                    primes_list.append(i)\n",
    "            return primes_list\n",
    "\n",
    "    primes_string = create_primes_string(20000)\n",
    "    digits = []\n",
    "    \n",
    "    for i in range(0,5):\n",
    "        digits.append(primes_string[n+i])\n",
    "        #print(digits)\n",
    "    #take the digits and turn them into a string\n",
    "    concatenated_string = ''.join(str(digit) for digit in digits)\n",
    "    id = concatenated_string[0:5]\n",
    "    id = int(id)\n",
    "    return id\n",
    "    "
   ]
  },
  {
   "cell_type": "code",
   "execution_count": 162,
   "metadata": {},
   "outputs": [
    {
     "data": {
      "text/plain": [
       "71113"
      ]
     },
     "execution_count": 162,
     "metadata": {},
     "output_type": "execute_result"
    }
   ],
   "source": [
    "solution(3)"
   ]
  },
  {
   "cell_type": "code",
   "execution_count": null,
   "metadata": {},
   "outputs": [],
   "source": [
    "import datetimerange\n",
    "\n",
    "\n",
    "datemath.datemath()\n",
    "\n"
   ]
  },
  {
   "cell_type": "code",
   "execution_count": 171,
   "metadata": {},
   "outputs": [
    {
     "data": {
      "text/plain": [
       "datetime.timedelta(days=-2)"
      ]
     },
     "execution_count": 171,
     "metadata": {},
     "output_type": "execute_result"
    }
   ],
   "source": [
    "import datetime\n",
    "import math\n",
    "\n",
    "date_1 = datetime.datetime(2023, 8, 12)\n",
    "date_2 = datetime.datetime(2023, 8, 14)\n",
    "result = date_1 - date_2\n",
    "result"
   ]
  },
  {
   "cell_type": "code",
   "execution_count": 222,
   "metadata": {},
   "outputs": [],
   "source": [
    "def func(date_1: datetime.datetime, date_2: datetime.datetime):\n",
    "    def modulus(n: int):\n",
    "        new = math.sqrt(n**2)\n",
    "        return new\n",
    "\n",
    "    time = date_1-date_2\n",
    "    days = time.days\n",
    "    days = modulus(n=days)\n",
    "    return days"
   ]
  },
  {
   "cell_type": "code",
   "execution_count": 223,
   "metadata": {},
   "outputs": [
    {
     "data": {
      "text/plain": [
       "2.0"
      ]
     },
     "execution_count": 223,
     "metadata": {},
     "output_type": "execute_result"
    }
   ],
   "source": [
    "func(date_1=date_1, date_2=date_2)"
   ]
  },
  {
   "cell_type": "code",
   "execution_count": 217,
   "metadata": {},
   "outputs": [
    {
     "data": {
      "text/plain": [
       "-2"
      ]
     },
     "execution_count": 217,
     "metadata": {},
     "output_type": "execute_result"
    }
   ],
   "source": [
    "a = date_1-date_2\n",
    "a.days"
   ]
  },
  {
   "cell_type": "code",
   "execution_count": 214,
   "metadata": {},
   "outputs": [
    {
     "data": {
      "text/plain": [
       "-2"
      ]
     },
     "execution_count": 214,
     "metadata": {},
     "output_type": "execute_result"
    }
   ],
   "source": [
    "a = date_1-date_2\n",
    "b = a.days\n",
    "b"
   ]
  },
  {
   "cell_type": "code",
   "execution_count": null,
   "metadata": {},
   "outputs": [],
   "source": []
  },
  {
   "cell_type": "code",
   "execution_count": 215,
   "metadata": {},
   "outputs": [
    {
     "data": {
      "text/plain": [
       "2.0"
      ]
     },
     "execution_count": 215,
     "metadata": {},
     "output_type": "execute_result"
    }
   ],
   "source": [
    "def modulus(n):\n",
    "        n = math.sqrt(n**2)\n",
    "        return n\n",
    "    \n",
    "    \n",
    "modulus(-2)"
   ]
  },
  {
   "cell_type": "code",
   "execution_count": 184,
   "metadata": {},
   "outputs": [
    {
     "name": "stdout",
     "output_type": "stream",
     "text": [
      "-7\n"
     ]
    }
   ],
   "source": [
    "a = 7\n",
    "b = ~a+1\n",
    "print(b)"
   ]
  },
  {
   "cell_type": "code",
   "execution_count": 224,
   "metadata": {},
   "outputs": [],
   "source": [
    "def solution(n):\n",
    "    if str(type(n))!=str(type(2)):\n",
    "        return None\n",
    "    elif n<0 or n>10000:\n",
    "        return None\n",
    "    else:\n",
    "        def create_primes_string(limit):\n",
    "            primes_list = []\n",
    "            def is_prime(n):\n",
    "                if n <= 1:\n",
    "                    return False\n",
    "                for i in range(2, int(n ** 0.5) + 1):\n",
    "                    if n % i == 0:\n",
    "                        return False\n",
    "                return True\n",
    "\n",
    "            def find_nth_prime(n):\n",
    "                prime_count = 0\n",
    "                num = 2\n",
    "                while prime_count < n:\n",
    "                    if is_prime(num):\n",
    "                        prime_count += 1\n",
    "                    if prime_count < n:\n",
    "                        num += 1\n",
    "                return num\n",
    "        \n",
    "            for i in range(0, find_nth_prime(limit+1)):\n",
    "                if is_prime(i):\n",
    "                    primes_list.append(i)\n",
    "            return primes_list\n",
    "\n",
    "    primes_string = create_primes_string(20000)\n",
    "    digits = []\n",
    "    \n",
    "    for i in range(0,5):\n",
    "        digits.append(primes_string[n+i])\n",
    "        #print(digits)\n",
    "    #take the digits and turn them into a string\n",
    "    concatenated_string = ''.join(str(digit) for digit in digits)\n",
    "    id = concatenated_string[0:5]\n",
    "    id = int(id)\n",
    "    return id"
   ]
  },
  {
   "cell_type": "code",
   "execution_count": 225,
   "metadata": {},
   "outputs": [
    {
     "data": {
      "text/plain": [
       "71113"
      ]
     },
     "execution_count": 225,
     "metadata": {},
     "output_type": "execute_result"
    }
   ],
   "source": [
    "solution(3)"
   ]
  },
  {
   "cell_type": "code",
   "execution_count": null,
   "metadata": {},
   "outputs": [],
   "source": []
  },
  {
   "cell_type": "code",
   "execution_count": null,
   "metadata": {},
   "outputs": [],
   "source": []
  },
  {
   "cell_type": "code",
   "execution_count": null,
   "metadata": {},
   "outputs": [],
   "source": []
  },
  {
   "cell_type": "code",
   "execution_count": null,
   "metadata": {},
   "outputs": [],
   "source": []
  },
  {
   "cell_type": "code",
   "execution_count": null,
   "metadata": {},
   "outputs": [],
   "source": []
  },
  {
   "cell_type": "code",
   "execution_count": null,
   "metadata": {},
   "outputs": [],
   "source": []
  },
  {
   "cell_type": "code",
   "execution_count": null,
   "metadata": {},
   "outputs": [],
   "source": []
  },
  {
   "cell_type": "code",
   "execution_count": null,
   "metadata": {},
   "outputs": [],
   "source": []
  },
  {
   "cell_type": "code",
   "execution_count": null,
   "metadata": {},
   "outputs": [],
   "source": []
  },
  {
   "cell_type": "code",
   "execution_count": null,
   "metadata": {},
   "outputs": [],
   "source": []
  },
  {
   "cell_type": "code",
   "execution_count": null,
   "metadata": {},
   "outputs": [],
   "source": []
  },
  {
   "cell_type": "code",
   "execution_count": null,
   "metadata": {},
   "outputs": [],
   "source": []
  },
  {
   "cell_type": "code",
   "execution_count": null,
   "metadata": {},
   "outputs": [],
   "source": []
  },
  {
   "cell_type": "code",
   "execution_count": null,
   "metadata": {},
   "outputs": [],
   "source": []
  },
  {
   "cell_type": "code",
   "execution_count": null,
   "metadata": {},
   "outputs": [],
   "source": []
  },
  {
   "cell_type": "code",
   "execution_count": null,
   "metadata": {},
   "outputs": [],
   "source": []
  },
  {
   "cell_type": "code",
   "execution_count": null,
   "metadata": {},
   "outputs": [],
   "source": []
  },
  {
   "cell_type": "code",
   "execution_count": null,
   "metadata": {},
   "outputs": [],
   "source": []
  },
  {
   "cell_type": "code",
   "execution_count": null,
   "metadata": {},
   "outputs": [],
   "source": []
  },
  {
   "cell_type": "code",
   "execution_count": null,
   "metadata": {},
   "outputs": [],
   "source": []
  },
  {
   "cell_type": "code",
   "execution_count": null,
   "metadata": {},
   "outputs": [],
   "source": []
  },
  {
   "cell_type": "code",
   "execution_count": null,
   "metadata": {},
   "outputs": [],
   "source": []
  },
  {
   "cell_type": "code",
   "execution_count": null,
   "metadata": {},
   "outputs": [],
   "source": []
  },
  {
   "cell_type": "code",
   "execution_count": null,
   "metadata": {},
   "outputs": [],
   "source": []
  },
  {
   "cell_type": "code",
   "execution_count": null,
   "metadata": {},
   "outputs": [],
   "source": []
  },
  {
   "cell_type": "code",
   "execution_count": null,
   "metadata": {},
   "outputs": [],
   "source": []
  },
  {
   "cell_type": "code",
   "execution_count": null,
   "metadata": {},
   "outputs": [],
   "source": []
  },
  {
   "cell_type": "code",
   "execution_count": null,
   "metadata": {},
   "outputs": [],
   "source": []
  },
  {
   "cell_type": "code",
   "execution_count": null,
   "metadata": {},
   "outputs": [],
   "source": []
  },
  {
   "cell_type": "code",
   "execution_count": null,
   "metadata": {},
   "outputs": [],
   "source": []
  },
  {
   "cell_type": "code",
   "execution_count": null,
   "metadata": {},
   "outputs": [],
   "source": []
  },
  {
   "cell_type": "code",
   "execution_count": null,
   "metadata": {},
   "outputs": [],
   "source": []
  },
  {
   "cell_type": "code",
   "execution_count": null,
   "metadata": {},
   "outputs": [],
   "source": []
  },
  {
   "cell_type": "code",
   "execution_count": null,
   "metadata": {},
   "outputs": [],
   "source": []
  },
  {
   "cell_type": "code",
   "execution_count": null,
   "metadata": {},
   "outputs": [],
   "source": []
  },
  {
   "cell_type": "code",
   "execution_count": null,
   "metadata": {},
   "outputs": [],
   "source": []
  },
  {
   "cell_type": "code",
   "execution_count": null,
   "metadata": {},
   "outputs": [],
   "source": []
  },
  {
   "cell_type": "code",
   "execution_count": null,
   "metadata": {},
   "outputs": [],
   "source": []
  },
  {
   "cell_type": "code",
   "execution_count": null,
   "metadata": {},
   "outputs": [],
   "source": []
  },
  {
   "cell_type": "code",
   "execution_count": null,
   "metadata": {},
   "outputs": [],
   "source": []
  },
  {
   "cell_type": "code",
   "execution_count": null,
   "metadata": {},
   "outputs": [],
   "source": []
  },
  {
   "cell_type": "code",
   "execution_count": null,
   "metadata": {},
   "outputs": [],
   "source": []
  },
  {
   "cell_type": "code",
   "execution_count": null,
   "metadata": {},
   "outputs": [],
   "source": []
  },
  {
   "cell_type": "code",
   "execution_count": null,
   "metadata": {},
   "outputs": [],
   "source": []
  },
  {
   "cell_type": "code",
   "execution_count": null,
   "metadata": {},
   "outputs": [],
   "source": []
  },
  {
   "cell_type": "code",
   "execution_count": null,
   "metadata": {},
   "outputs": [],
   "source": []
  },
  {
   "cell_type": "code",
   "execution_count": null,
   "metadata": {},
   "outputs": [],
   "source": []
  },
  {
   "cell_type": "code",
   "execution_count": null,
   "metadata": {},
   "outputs": [],
   "source": []
  },
  {
   "cell_type": "code",
   "execution_count": null,
   "metadata": {},
   "outputs": [],
   "source": []
  },
  {
   "cell_type": "code",
   "execution_count": null,
   "metadata": {},
   "outputs": [],
   "source": []
  },
  {
   "cell_type": "code",
   "execution_count": null,
   "metadata": {},
   "outputs": [],
   "source": []
  },
  {
   "cell_type": "code",
   "execution_count": null,
   "metadata": {},
   "outputs": [],
   "source": []
  },
  {
   "cell_type": "code",
   "execution_count": null,
   "metadata": {},
   "outputs": [],
   "source": []
  },
  {
   "cell_type": "code",
   "execution_count": null,
   "metadata": {},
   "outputs": [],
   "source": []
  },
  {
   "cell_type": "code",
   "execution_count": null,
   "metadata": {},
   "outputs": [],
   "source": []
  },
  {
   "cell_type": "code",
   "execution_count": null,
   "metadata": {},
   "outputs": [],
   "source": []
  },
  {
   "cell_type": "code",
   "execution_count": null,
   "metadata": {},
   "outputs": [],
   "source": []
  },
  {
   "cell_type": "code",
   "execution_count": null,
   "metadata": {},
   "outputs": [],
   "source": []
  },
  {
   "cell_type": "code",
   "execution_count": null,
   "metadata": {},
   "outputs": [],
   "source": []
  },
  {
   "cell_type": "code",
   "execution_count": null,
   "metadata": {},
   "outputs": [],
   "source": []
  },
  {
   "cell_type": "code",
   "execution_count": null,
   "metadata": {},
   "outputs": [],
   "source": []
  },
  {
   "cell_type": "code",
   "execution_count": null,
   "metadata": {},
   "outputs": [],
   "source": []
  },
  {
   "cell_type": "code",
   "execution_count": null,
   "metadata": {},
   "outputs": [],
   "source": []
  },
  {
   "cell_type": "code",
   "execution_count": null,
   "metadata": {},
   "outputs": [],
   "source": []
  },
  {
   "cell_type": "code",
   "execution_count": null,
   "metadata": {},
   "outputs": [],
   "source": []
  },
  {
   "cell_type": "code",
   "execution_count": null,
   "metadata": {},
   "outputs": [],
   "source": []
  },
  {
   "cell_type": "code",
   "execution_count": null,
   "metadata": {},
   "outputs": [],
   "source": []
  },
  {
   "cell_type": "code",
   "execution_count": null,
   "metadata": {},
   "outputs": [],
   "source": []
  },
  {
   "cell_type": "code",
   "execution_count": null,
   "metadata": {},
   "outputs": [],
   "source": []
  },
  {
   "cell_type": "code",
   "execution_count": null,
   "metadata": {},
   "outputs": [],
   "source": []
  },
  {
   "cell_type": "code",
   "execution_count": null,
   "metadata": {},
   "outputs": [],
   "source": []
  },
  {
   "cell_type": "code",
   "execution_count": null,
   "metadata": {},
   "outputs": [],
   "source": []
  },
  {
   "cell_type": "code",
   "execution_count": null,
   "metadata": {},
   "outputs": [],
   "source": []
  },
  {
   "cell_type": "code",
   "execution_count": null,
   "metadata": {},
   "outputs": [],
   "source": []
  },
  {
   "cell_type": "code",
   "execution_count": null,
   "metadata": {},
   "outputs": [],
   "source": []
  },
  {
   "cell_type": "code",
   "execution_count": null,
   "metadata": {},
   "outputs": [],
   "source": []
  },
  {
   "cell_type": "code",
   "execution_count": null,
   "metadata": {},
   "outputs": [],
   "source": []
  },
  {
   "cell_type": "code",
   "execution_count": null,
   "metadata": {},
   "outputs": [],
   "source": []
  },
  {
   "cell_type": "code",
   "execution_count": null,
   "metadata": {},
   "outputs": [],
   "source": []
  },
  {
   "cell_type": "code",
   "execution_count": null,
   "metadata": {},
   "outputs": [],
   "source": []
  },
  {
   "cell_type": "code",
   "execution_count": null,
   "metadata": {},
   "outputs": [],
   "source": []
  },
  {
   "cell_type": "code",
   "execution_count": null,
   "metadata": {},
   "outputs": [],
   "source": []
  },
  {
   "cell_type": "code",
   "execution_count": null,
   "metadata": {},
   "outputs": [],
   "source": []
  },
  {
   "cell_type": "code",
   "execution_count": null,
   "metadata": {},
   "outputs": [],
   "source": []
  },
  {
   "cell_type": "code",
   "execution_count": null,
   "metadata": {},
   "outputs": [],
   "source": []
  },
  {
   "cell_type": "code",
   "execution_count": null,
   "metadata": {},
   "outputs": [],
   "source": []
  },
  {
   "cell_type": "code",
   "execution_count": null,
   "metadata": {},
   "outputs": [],
   "source": []
  },
  {
   "cell_type": "code",
   "execution_count": null,
   "metadata": {},
   "outputs": [],
   "source": []
  }
 ],
 "metadata": {
  "kernelspec": {
   "display_name": "langchain",
   "language": "python",
   "name": "python3"
  },
  "language_info": {
   "codemirror_mode": {
    "name": "ipython",
    "version": 3
   },
   "file_extension": ".py",
   "mimetype": "text/x-python",
   "name": "python",
   "nbconvert_exporter": "python",
   "pygments_lexer": "ipython3",
   "version": "3.11.1"
  },
  "orig_nbformat": 4
 },
 "nbformat": 4,
 "nbformat_minor": 2
}
