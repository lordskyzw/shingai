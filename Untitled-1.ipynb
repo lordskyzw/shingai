{
 "cells": [
  {
   "cell_type": "code",
   "execution_count": 1,
   "metadata": {},
   "outputs": [
    {
     "name": "stderr",
     "output_type": "stream",
     "text": [
      "c:\\Users\\tarim\\AppData\\Local\\Programs\\Python\\Python311\\Lib\\site-packages\\deeplake\\util\\check_latest_version.py:32: UserWarning: A newer version of deeplake (3.6.19) is available. It's recommended that you update to the latest version using `pip install -U deeplake`.\n",
      "  warnings.warn(\n"
     ]
    }
   ],
   "source": [
    "from langchain.agents import Tool\n",
    "from langchain.agents import AgentType\n",
    "from langchain.memory import ConversationBufferMemory\n",
    "from langchain.chat_models import ChatOpenAI\n",
    "from langchain.utilities import SerpAPIWrapper\n",
    "from langchain.agents import initialize_agent "
   ]
  },
  {
   "cell_type": "code",
   "execution_count": 2,
   "metadata": {},
   "outputs": [],
   "source": [
    "search = SerpAPIWrapper(serpapi_api_key=\"8d732beb0ec037938297f3a0abfec80608b5ff26cad5d0cb2e6c2dd1b4855bb0\")\n",
    "tools = [\n",
    "    Tool(\n",
    "        name = \"Current Search\",\n",
    "        func=search.run,\n",
    "        description=\"useful for when you need to answer questions about current events or the current state of the world\"\n",
    "    ),\n",
    "]"
   ]
  },
  {
   "cell_type": "code",
   "execution_count": 3,
   "metadata": {},
   "outputs": [],
   "source": [
    "memory = ConversationBufferMemory(memory_key=\"chat_history\")"
   ]
  },
  {
   "cell_type": "code",
   "execution_count": 4,
   "metadata": {},
   "outputs": [],
   "source": [
    "llm=ChatOpenAI(temperature=0, model=\"gpt-4\")\n",
    "agent_chain = initialize_agent(tools, llm, agent=AgentType.CONVERSATIONAL_REACT_DESCRIPTION, verbose=True, memory=memory)"
   ]
  },
  {
   "cell_type": "code",
   "execution_count": 5,
   "metadata": {},
   "outputs": [
    {
     "name": "stdout",
     "output_type": "stream",
     "text": [
      "\n",
      "\n",
      "\u001b[1m> Entering new AgentExecutor chain...\u001b[0m\n",
      "\u001b[32;1m\u001b[1;3mThought: Do I need to use a tool? No\n",
      "AI: Yes, GPT-4, or any advanced version of the GPT model, could potentially be used to assist in Google Foobar or similar coding challenges. These models can generate human-like text based on the input they receive, which could include generating code or providing explanations of coding concepts. However, it's important to note that while these models can generate code and provide assistance, they are not perfect and their output should be carefully reviewed for accuracy and appropriateness. Additionally, using AI assistance in such challenges may be against the rules of the challenge, so it's important to check the rules before using such a tool.\u001b[0m\n",
      "\n",
      "\u001b[1m> Finished chain.\u001b[0m\n"
     ]
    },
    {
     "data": {
      "text/plain": [
       "\"Yes, GPT-4, or any advanced version of the GPT model, could potentially be used to assist in Google Foobar or similar coding challenges. These models can generate human-like text based on the input they receive, which could include generating code or providing explanations of coding concepts. However, it's important to note that while these models can generate code and provide assistance, they are not perfect and their output should be carefully reviewed for accuracy and appropriateness. Additionally, using AI assistance in such challenges may be against the rules of the challenge, so it's important to check the rules before using such a tool.\""
      ]
     },
     "execution_count": 5,
     "metadata": {},
     "output_type": "execute_result"
    }
   ],
   "source": [
    "agent_chain.run(input=\"can gpt4 be used to assist in google foobar?\")"
   ]
  },
  {
   "cell_type": "code",
   "execution_count": 22,
   "metadata": {},
   "outputs": [
    {
     "name": "stdout",
     "output_type": "stream",
     "text": [
      "\n",
      "\n",
      "\u001b[1m> Entering new  chain...\u001b[0m\n",
      "\u001b[32;1m\u001b[1;3mThought: Do I need to use a tool? Yes\n",
      "Action: Current Search\n",
      "Action Input: current state of the world\u001b[0m\n",
      "Observation: \u001b[36;1m\u001b[1;3mState of Our World ... The world economy has barely had the time to recover from a string of shocks that began with the 2007 financial crisis, and we can already ...\u001b[0m\n",
      "Thought:\u001b[32;1m\u001b[1;3mDo I need to use a tool? No\n",
      "AI: The current state of the world is complex and constantly changing. Economically, the world is still recovering from a series of shocks that began with the 2007 financial crisis. Please note that this is a very broad overview and the state of the world can vary greatly depending on the specific aspect you're interested in, such as politics, environment, health, etc. Would you like information on a specific topic?\u001b[0m\n",
      "\n",
      "\u001b[1m> Finished chain.\u001b[0m\n"
     ]
    },
    {
     "data": {
      "text/plain": [
       "\"The current state of the world is complex and constantly changing. Economically, the world is still recovering from a series of shocks that began with the 2007 financial crisis. Please note that this is a very broad overview and the state of the world can vary greatly depending on the specific aspect you're interested in, such as politics, environment, health, etc. Would you like information on a specific topic?\""
      ]
     },
     "execution_count": 22,
     "metadata": {},
     "output_type": "execute_result"
    }
   ],
   "source": [
    "agent_chain.run(input=\"what is the current state of the world?\")"
   ]
  },
  {
   "cell_type": "code",
   "execution_count": 23,
   "metadata": {},
   "outputs": [
    {
     "name": "stdout",
     "output_type": "stream",
     "text": [
      "\n",
      "\n",
      "\u001b[1m> Entering new  chain...\u001b[0m\n",
      "\u001b[32;1m\u001b[1;3mThought: Do I need to use a tool? Yes\n",
      "Action: Current Search\n",
      "Action Input: Tarmica Chiwara\u001b[0m\n",
      "Observation: \u001b[36;1m\u001b[1;3mTarmica Chiwara · Harare, Zimbabwe · Current city · Mutare, Zimbabwe · Hometown.\u001b[0m\n",
      "Thought:\u001b[32;1m\u001b[1;3mDo I need to use a tool? No\n",
      "AI: Tarmica Chiwara appears to be an individual from Harare, Zimbabwe, with Mutare, Zimbabwe listed as their hometown. Please note that due to privacy concerns, I can't provide more detailed personal information.\u001b[0m\n",
      "\n",
      "\u001b[1m> Finished chain.\u001b[0m\n"
     ]
    },
    {
     "data": {
      "text/plain": [
       "\"Tarmica Chiwara appears to be an individual from Harare, Zimbabwe, with Mutare, Zimbabwe listed as their hometown. Please note that due to privacy concerns, I can't provide more detailed personal information.\""
      ]
     },
     "execution_count": 23,
     "metadata": {},
     "output_type": "execute_result"
    }
   ],
   "source": [
    "agent_chain.run(input=\"who is Tarmica Chiwara?\")"
   ]
  },
  {
   "cell_type": "code",
   "execution_count": 9,
   "metadata": {},
   "outputs": [
    {
     "name": "stdout",
     "output_type": "stream",
     "text": [
      "\n",
      "\n",
      "\u001b[1m> Entering new  chain...\u001b[0m\n",
      "\u001b[32;1m\u001b[1;3m\n",
      "Thought: Do I need to use a tool? No\n",
      "AI: I'm sorry, I must have misunderstood. Could you please provide more information so I can better understand your question?\u001b[0m\n",
      "\n",
      "\u001b[1m> Finished chain.\u001b[0m\n"
     ]
    },
    {
     "data": {
      "text/plain": [
       "\"I'm sorry, I must have misunderstood. Could you please provide more information so I can better understand your question?\""
      ]
     },
     "execution_count": 9,
     "metadata": {},
     "output_type": "execute_result"
    }
   ],
   "source": [
    "agent_chain.run(input=\"Thats wrong\")"
   ]
  }
 ],
 "metadata": {
  "kernelspec": {
   "display_name": "langchain",
   "language": "python",
   "name": "python3"
  },
  "language_info": {
   "codemirror_mode": {
    "name": "ipython",
    "version": 3
   },
   "file_extension": ".py",
   "mimetype": "text/x-python",
   "name": "python",
   "nbconvert_exporter": "python",
   "pygments_lexer": "ipython3",
   "version": "3.11.1"
  },
  "orig_nbformat": 4
 },
 "nbformat": 4,
 "nbformat_minor": 2
}
